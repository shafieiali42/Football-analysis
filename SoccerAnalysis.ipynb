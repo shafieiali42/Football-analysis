{
  "nbformat": 4,
  "nbformat_minor": 0,
  "metadata": {
    "colab": {
      "name": "SoccerAnalysis.ipynb",
      "provenance": [],
      "collapsed_sections": [
        "5Z4pdaKxvOxZ",
        "XSojDgBTvYsy",
        "wWDZpHcF6vJF"
      ],
      "toc_visible": true,
      "authorship_tag": "ABX9TyNdRkAVHHSt1cR/heSd31US",
      "include_colab_link": true
    },
    "kernelspec": {
      "name": "python3",
      "display_name": "Python 3"
    },
    "language_info": {
      "name": "python"
    }
  },
  "cells": [
    {
      "cell_type": "markdown",
      "metadata": {
        "id": "view-in-github",
        "colab_type": "text"
      },
      "source": [
        "<a href=\"https://colab.research.google.com/github/shafieiali42/Football-analysis/blob/main/SoccerAnalysis.ipynb\" target=\"_parent\"><img src=\"https://colab.research.google.com/assets/colab-badge.svg\" alt=\"Open In Colab\"/></a>"
      ]
    },
    {
      "cell_type": "code",
      "execution_count": null,
      "metadata": {
        "colab": {
          "base_uri": "https://localhost:8080/"
        },
        "id": "wmp-F3Seua0Y",
        "outputId": "f46191ce-bc1c-4b08-fde3-452868a8f639"
      },
      "outputs": [
        {
          "output_type": "stream",
          "name": "stdout",
          "text": [
            "Drive already mounted at /content/drive; to attempt to forcibly remount, call drive.mount(\"/content/drive\", force_remount=True).\n"
          ]
        }
      ],
      "source": [
        "from google.colab import drive\n",
        "drive.mount('/content/drive')"
      ]
    },
    {
      "cell_type": "code",
      "source": [
        "import numpy as np\n",
        "import pandas as pd\n",
        "import matplotlib.pyplot as plt\n",
        "import seaborn as sns\n",
        "sns.set()\n",
        "plt.style.use(\"ggplot\")\n",
        "import warnings                                            \n",
        "warnings.filterwarnings('ignore')"
      ],
      "metadata": {
        "id": "zp7DjprLudpT"
      },
      "execution_count": null,
      "outputs": []
    },
    {
      "cell_type": "markdown",
      "source": [
        "## Web scraping"
      ],
      "metadata": {
        "id": "5Z4pdaKxvOxZ"
      }
    },
    {
      "cell_type": "code",
      "source": [
        "import requests\n",
        "from bs4 import BeautifulSoup\n",
        "\n",
        "   \n",
        "def get_data(pageNumber):\n",
        "    url =\"https://sofifa.com/?showCol%5B0%5D=ae&showCol%5B1%5D=hi&showCol%5B2%5D=wi&showCol%5B3%5D=pf&showCol%5B4%5D=oa&showCol%5B5%5D=pt&showCol%5B6%5D=bp&showCol%5B7%5D=jt&showCol%5B8%5D=vl&showCol%5B9%5D=wg&showCol%5B10%5D=rc&showCol%5B11%5D=ta&showCol%5B12%5D=cr&showCol%5B13%5D=fi&showCol%5B14%5D=he&showCol%5B15%5D=sh&showCol%5B16%5D=ts&showCol%5B17%5D=dr&showCol%5B18%5D=fr&showCol%5B19%5D=lo&showCol%5B20%5D=bl&showCol%5B21%5D=to&showCol%5B22%5D=sp&showCol%5B23%5D=ag&showCol%5B24%5D=tp&showCol%5B25%5D=so&showCol%5B26%5D=st&showCol%5B27%5D=ln&showCol%5B28%5D=te&showCol%5B29%5D=in&showCol%5B30%5D=pe&showCol%5B31%5D=td&showCol%5B32%5D=ma&showCol%5B33%5D=sa&showCol%5B34%5D=sl&showCol%5B35%5D=gd&showCol%5B36%5D=gh&showCol%5B37%5D=gc&showCol%5B38%5D=gp&showCol%5B39%5D=gr&showCol%5B40%5D=tt&showCol%5B41%5D=wk&showCol%5B42%5D=bt&showCol%5B43%5D=ir&col=wg&sort=desc&offset=\"+ str(pageNumber * 60)\n",
        "    soup = BeautifulSoup(requests.get(url).content, \"lxml\")\n",
        "    rv = []\n",
        "    for row in soup.select(\"tbody tr\"):\n",
        "      id_ = row.select_one(\"img[id]\")[\"id\"]\n",
        "      name = row.select_one(\".col-name\")\n",
        "      name=name.findChildren(\"a\")[0][\"aria-label\"]\n",
        "      age = row.select_one(\".col-ae\").get_text(strip=True)\n",
        "      nationality = row.select_one(\"img.flag\")[\"title\"]\n",
        "      overall = row.select_one(\".col-oa\").get_text(strip=True)\n",
        "      potential = row.select_one(\".col-pt\").get_text(strip=True)\n",
        "      club = row.select_one(\".col-name > div > a\").get_text(strip=True)\n",
        "      if club == \"\":\n",
        "          club = row.select_one(\".col-name > div > a\")[\"title\"]\n",
        "\n",
        "      joinedDate=row.select_one(\".col-jt\").get_text(strip=True)\n",
        "      foot=row.select_one(\".col-pf\").get_text(strip=True)\n",
        "      best_position=row.select_one(\".col-bp\").get_text(strip=True)\n",
        "      height=row.select_one(\".col-hi\").get_text(strip=True)\n",
        "      weight=row.select_one(\".col-wi\").get_text(strip=True)\n",
        "      internationalReputation=row.select_one(\".col-ir\").get_text(strip=True)\n",
        "      bodyType=row.select_one(\".col-bt\").get_text(strip=True)\n",
        "      totalAttack=row.select_one(\".col-ta\").get_text(strip=True)\n",
        "      crossing=row.select_one(\".col-cr\").get_text(strip=True)\n",
        "      finishing=row.select_one(\".col-fi\").get_text(strip=True)\n",
        "      headingAcc=row.select_one(\".col-he\").get_text(strip=True)\n",
        "      fkAcc=row.select_one(\".col-fr\").get_text(strip=True)\n",
        "      totalSkill=row.select_one(\".col-ts\").get_text(strip=True)\n",
        "      dribbling=row.select_one(\".col-dr\").get_text(strip=True)\n",
        "      ballControl=row.select_one(\".col-bl\").get_text(strip=True)\n",
        "      shortPassing=row.select_one(\".col-sh\").get_text(strip=True)\n",
        "      longPassing=row.select_one(\".col-lo\").get_text(strip=True)\n",
        "      totalMovement=row.select_one(\".col-to\").get_text(strip=True)\n",
        "      sprint=row.select_one(\".col-sp\").get_text(strip=True)\n",
        "      agility=row.select_one(\".col-ag\").get_text(strip=True)\n",
        "      totalPower=row.select_one(\".col-tp\").get_text(strip=True)\n",
        "      shotPower=row.select_one(\".col-so\").get_text(strip=True)\n",
        "      longShots=row.select_one(\".col-ln\").get_text(strip=True)\n",
        "      stamina=row.select_one(\".col-st\").get_text(strip=True)\n",
        "      totalMentality=row.select_one(\".col-te\").get_text(strip=True)\n",
        "      penalties=row.select_one(\".col-pe\").get_text(strip=True)\n",
        "      totalDefending=row.select_one(\".col-td\").get_text(strip=True)\n",
        "      slidingTackle=row.select_one(\".col-sl\").get_text(strip=True)\n",
        "      standingTackle=row.select_one(\".col-sa\").get_text(strip=True)\n",
        "      marking=row.select_one(\".col-ma\").get_text(strip=True)\n",
        "      total=row.select_one(\".col-fi\").get_text(strip=True)\n",
        "      weakFeet=row.select_one(\".col-wk\").get_text(strip=True)\n",
        "      interceptions=row.select_one(\".col-in\").get_text(strip=True)\n",
        "      releaseClause=row.select_one(\".col-rc\").get_text(strip=True)\n",
        "      value = row.select_one(\".col-vl\").get_text(strip=True)\n",
        "      wage = row.select_one(\".col-wg\").get_text(strip=True)\n",
        "      rv.append(\n",
        "          [\n",
        "              id_,\n",
        "              name,\n",
        "              age,\n",
        "              nationality,\n",
        "              overall,\n",
        "              potential,\n",
        "              club,\n",
        "              joinedDate,\n",
        "              foot,\n",
        "              best_position,\n",
        "              height,\n",
        "              weight,\n",
        "              internationalReputation,\n",
        "              # bodyType,\n",
        "              totalAttack,\n",
        "              crossing,\n",
        "              finishing,\n",
        "              headingAcc,\n",
        "              fkAcc,\n",
        "              totalSkill,\n",
        "              dribbling,\n",
        "              ballControl,\n",
        "              shortPassing,\n",
        "              longPassing,\n",
        "              totalMovement,\n",
        "              sprint,\n",
        "              agility,\n",
        "              totalPower,\n",
        "              shotPower,\n",
        "              longShots,\n",
        "              stamina,\n",
        "              totalMentality,\n",
        "              penalties,\n",
        "              totalDefending,\n",
        "              slidingTackle,\n",
        "              standingTackle,\n",
        "              marking,\n",
        "              weakFeet,\n",
        "              interceptions,\n",
        "              releaseClause,\n",
        "              value,\n",
        "              wage\n",
        "          ]\n",
        "      )\n",
        "\n",
        "    return rv\n",
        "\n",
        "\n",
        "all_data = []\n",
        "total_number_of_pages=200\n",
        "for pageNum in range(total_number_of_pages):\n",
        "    print(f\"Page Number: {pageNum}\")\n",
        "    all_data.extend(get_data(pageNum))\n",
        "\n",
        "df = pd.DataFrame(\n",
        "    all_data,\n",
        "    columns=[\n",
        "        \"ID\",\n",
        "        \"Name\",\n",
        "        \"Age\",\n",
        "        \"Nationality\",\n",
        "        \"Overall\",\n",
        "        \"Potential\",\n",
        "        \"Club\",\n",
        "        \"Joined\",\n",
        "        \"Foot\",\n",
        "        \"Best Position\",\n",
        "        \"Height\",\n",
        "        \"Weight\",\n",
        "        \"Reputation\",\n",
        "        # \"Body Type\",\n",
        "        \"total Attack\",\n",
        "        \"crossing\",\n",
        "        \"finishing\",\n",
        "        \"headingAcc\",\n",
        "        \"Fk Acc\",\n",
        "        \"total Skill\",\n",
        "        \"dribbling\",\n",
        "        \"ballControl\",\n",
        "        \"Short Passing\",\n",
        "        \"Long Passing\",\n",
        "        \"total Movement\",\n",
        "        \"sprint\",\n",
        "        \"agility\",\n",
        "        \"total power\",\n",
        "        \"Shot Power\",\n",
        "        \"Long Shots\",\n",
        "        \"Stamina\",\n",
        "        \"total Mentality\",\n",
        "        \"Pentalies\",\n",
        "        \"total defending\",\n",
        "        \"Sliding tackle\",\n",
        "        \"Standing tackle\",\n",
        "        \"marking\",\n",
        "        \"Weak Feet\",\n",
        "        \"interceptions\",\n",
        "        \"Release Clause\",\n",
        "        \"Value\",\n",
        "        \"Wage\"\n",
        "    ],\n",
        ")\n",
        "\n",
        "\n",
        "df.to_csv(\"/content/drive/MyDrive/SoccerPrice/InitialDataset.csv\",index=False)"
      ],
      "metadata": {
        "id": "kjByLT-nugRH",
        "colab": {
          "base_uri": "https://localhost:8080/"
        },
        "outputId": "4ec43cfd-8bc4-42fc-c714-1c68fdb2bbe5"
      },
      "execution_count": null,
      "outputs": [
        {
          "output_type": "stream",
          "name": "stdout",
          "text": [
            "Page Number: 0\n",
            "Page Number: 1\n",
            "Page Number: 2\n",
            "Page Number: 3\n",
            "Page Number: 4\n",
            "Page Number: 5\n",
            "Page Number: 6\n",
            "Page Number: 7\n",
            "Page Number: 8\n",
            "Page Number: 9\n",
            "Page Number: 10\n",
            "Page Number: 11\n",
            "Page Number: 12\n",
            "Page Number: 13\n",
            "Page Number: 14\n",
            "Page Number: 15\n",
            "Page Number: 16\n",
            "Page Number: 17\n",
            "Page Number: 18\n",
            "Page Number: 19\n",
            "Page Number: 20\n",
            "Page Number: 21\n",
            "Page Number: 22\n",
            "Page Number: 23\n",
            "Page Number: 24\n",
            "Page Number: 25\n",
            "Page Number: 26\n",
            "Page Number: 27\n",
            "Page Number: 28\n",
            "Page Number: 29\n",
            "Page Number: 30\n",
            "Page Number: 31\n",
            "Page Number: 32\n",
            "Page Number: 33\n",
            "Page Number: 34\n",
            "Page Number: 35\n",
            "Page Number: 36\n",
            "Page Number: 37\n",
            "Page Number: 38\n",
            "Page Number: 39\n",
            "Page Number: 40\n",
            "Page Number: 41\n",
            "Page Number: 42\n",
            "Page Number: 43\n",
            "Page Number: 44\n",
            "Page Number: 45\n",
            "Page Number: 46\n",
            "Page Number: 47\n",
            "Page Number: 48\n",
            "Page Number: 49\n",
            "Page Number: 50\n",
            "Page Number: 51\n",
            "Page Number: 52\n",
            "Page Number: 53\n",
            "Page Number: 54\n",
            "Page Number: 55\n",
            "Page Number: 56\n",
            "Page Number: 57\n",
            "Page Number: 58\n",
            "Page Number: 59\n",
            "Page Number: 60\n",
            "Page Number: 61\n",
            "Page Number: 62\n",
            "Page Number: 63\n",
            "Page Number: 64\n",
            "Page Number: 65\n",
            "Page Number: 66\n",
            "Page Number: 67\n",
            "Page Number: 68\n",
            "Page Number: 69\n",
            "Page Number: 70\n",
            "Page Number: 71\n",
            "Page Number: 72\n",
            "Page Number: 73\n",
            "Page Number: 74\n",
            "Page Number: 75\n",
            "Page Number: 76\n",
            "Page Number: 77\n",
            "Page Number: 78\n",
            "Page Number: 79\n",
            "Page Number: 80\n",
            "Page Number: 81\n",
            "Page Number: 82\n",
            "Page Number: 83\n",
            "Page Number: 84\n",
            "Page Number: 85\n",
            "Page Number: 86\n",
            "Page Number: 87\n",
            "Page Number: 88\n",
            "Page Number: 89\n",
            "Page Number: 90\n",
            "Page Number: 91\n",
            "Page Number: 92\n",
            "Page Number: 93\n",
            "Page Number: 94\n",
            "Page Number: 95\n",
            "Page Number: 96\n",
            "Page Number: 97\n",
            "Page Number: 98\n",
            "Page Number: 99\n",
            "Page Number: 100\n",
            "Page Number: 101\n",
            "Page Number: 102\n",
            "Page Number: 103\n",
            "Page Number: 104\n",
            "Page Number: 105\n",
            "Page Number: 106\n",
            "Page Number: 107\n",
            "Page Number: 108\n",
            "Page Number: 109\n",
            "Page Number: 110\n",
            "Page Number: 111\n",
            "Page Number: 112\n",
            "Page Number: 113\n",
            "Page Number: 114\n",
            "Page Number: 115\n",
            "Page Number: 116\n",
            "Page Number: 117\n",
            "Page Number: 118\n",
            "Page Number: 119\n",
            "Page Number: 120\n",
            "Page Number: 121\n",
            "Page Number: 122\n",
            "Page Number: 123\n",
            "Page Number: 124\n",
            "Page Number: 125\n",
            "Page Number: 126\n",
            "Page Number: 127\n",
            "Page Number: 128\n",
            "Page Number: 129\n",
            "Page Number: 130\n",
            "Page Number: 131\n",
            "Page Number: 132\n",
            "Page Number: 133\n",
            "Page Number: 134\n",
            "Page Number: 135\n",
            "Page Number: 136\n",
            "Page Number: 137\n",
            "Page Number: 138\n",
            "Page Number: 139\n",
            "Page Number: 140\n",
            "Page Number: 141\n",
            "Page Number: 142\n",
            "Page Number: 143\n",
            "Page Number: 144\n",
            "Page Number: 145\n",
            "Page Number: 146\n",
            "Page Number: 147\n",
            "Page Number: 148\n",
            "Page Number: 149\n",
            "Page Number: 150\n",
            "Page Number: 151\n",
            "Page Number: 152\n",
            "Page Number: 153\n",
            "Page Number: 154\n",
            "Page Number: 155\n",
            "Page Number: 156\n",
            "Page Number: 157\n",
            "Page Number: 158\n",
            "Page Number: 159\n",
            "Page Number: 160\n",
            "Page Number: 161\n",
            "Page Number: 162\n",
            "Page Number: 163\n",
            "Page Number: 164\n",
            "Page Number: 165\n",
            "Page Number: 166\n",
            "Page Number: 167\n",
            "Page Number: 168\n",
            "Page Number: 169\n",
            "Page Number: 170\n",
            "Page Number: 171\n",
            "Page Number: 172\n",
            "Page Number: 173\n",
            "Page Number: 174\n",
            "Page Number: 175\n",
            "Page Number: 176\n",
            "Page Number: 177\n",
            "Page Number: 178\n",
            "Page Number: 179\n",
            "Page Number: 180\n",
            "Page Number: 181\n",
            "Page Number: 182\n",
            "Page Number: 183\n",
            "Page Number: 184\n",
            "Page Number: 185\n",
            "Page Number: 186\n",
            "Page Number: 187\n",
            "Page Number: 188\n",
            "Page Number: 189\n",
            "Page Number: 190\n",
            "Page Number: 191\n",
            "Page Number: 192\n",
            "Page Number: 193\n",
            "Page Number: 194\n",
            "Page Number: 195\n",
            "Page Number: 196\n",
            "Page Number: 197\n",
            "Page Number: 198\n",
            "Page Number: 199\n"
          ]
        }
      ]
    },
    {
      "cell_type": "markdown",
      "source": [
        "## Data cleaning"
      ],
      "metadata": {
        "id": "XSojDgBTvYsy"
      }
    },
    {
      "cell_type": "code",
      "source": [
        "data_frame=pd.read_csv(\"/content/drive/MyDrive/SoccerPrice/InitialDataset.csv\")"
      ],
      "metadata": {
        "id": "ok8cwZCLwKci"
      },
      "execution_count": null,
      "outputs": []
    },
    {
      "cell_type": "code",
      "source": [
        "# Drop duplicated rows\n",
        "data_frame=data_frame.drop_duplicates(subset=[\"Name\"], keep=\"first\")"
      ],
      "metadata": {
        "id": "AATP9QWBwREB"
      },
      "execution_count": null,
      "outputs": []
    },
    {
      "cell_type": "code",
      "source": [
        "# Remove \"cm,kg,...\"\n",
        "def edit_value(x):\n",
        "  if \"k\" in x[\"Value\"].lower():\n",
        "    return float(x[\"Value\"][1:-1])/1e6\n",
        "  if \"m\" in x[\"Value\"].lower():\n",
        "    return float(x[\"Value\"][1:-1])\n",
        "  return float(x[\"Value\"][1:])\n",
        "  \n",
        "\n",
        "data_frame_copy=data_frame.copy()\n",
        "data_frame_copy[\"Value\"]=data_frame.apply(lambda x:edit_value(x),axis=1)\n",
        "data_frame_copy[\"Wage\"]=data_frame.apply(lambda x:x[\"Wage\"][1:-1] if ((\"k\" in x[\"Wage\"].lower()) | (\"m\" in x[\"Wage\"].lower())) else x[\"Wage\"][1:],axis=1)\n",
        "data_frame_copy[\"Release Clause\"]=data_frame.apply(lambda x:x[\"Release Clause\"][1:-1] if ((\"k\" in x[\"Release Clause\"].lower()) | (\"m\" in x[\"Release Clause\"].lower())) else x[\"Release Clause\"][1:],axis=1)\n",
        "data_frame_copy[\"Height\"]=data_frame.apply(lambda x:x[\"Height\"][:-2] if (\"cm\" in x[\"Height\"].lower()) else x[\"Height\"],axis=1)\n",
        "data_frame_copy[\"Weight\"]=data_frame.apply(lambda x:x[\"Weight\"][:-2] if (\"kg\" in x[\"Weight\"].lower()) else x[\"Weight\"],axis=1)\n",
        "data_frame=data_frame_copy\n",
        "data_frame[[\"Value\",\"Wage\",\"Height\",\"Weight\",\"Release Clause\"]]=data_frame[[\"Value\",\"Wage\",\"Height\",\"Weight\",\"Release Clause\"]].astype(np.float64)"
      ],
      "metadata": {
        "id": "OI2EmQjGwVIO"
      },
      "execution_count": null,
      "outputs": []
    },
    {
      "cell_type": "code",
      "source": [
        "# Checking if any value is Nan\n",
        "data_frame.isna().sum()"
      ],
      "metadata": {
        "id": "D6jygYp4xaZ3",
        "colab": {
          "base_uri": "https://localhost:8080/"
        },
        "outputId": "32df176d-78b7-4ae6-e81a-28883e2ec357"
      },
      "execution_count": null,
      "outputs": [
        {
          "output_type": "execute_result",
          "data": {
            "text/plain": [
              "ID                 0\n",
              "Name               0\n",
              "Age                0\n",
              "Nationality        0\n",
              "Overall            0\n",
              "Potential          0\n",
              "Club               0\n",
              "Joined             0\n",
              "Foot               0\n",
              "Best Position      0\n",
              "Height             0\n",
              "Weight             0\n",
              "Reputation         0\n",
              "total Attack       0\n",
              "crossing           0\n",
              "finishing          0\n",
              "headingAcc         0\n",
              "Fk Acc             0\n",
              "total Skill        0\n",
              "dribbling          0\n",
              "ballControl        0\n",
              "Short Passing      0\n",
              "Long Passing       0\n",
              "total Movement     0\n",
              "sprint             0\n",
              "agility            0\n",
              "total power        0\n",
              "Shot Power         0\n",
              "Long Shots         0\n",
              "Stamina            0\n",
              "total Mentality    0\n",
              "Pentalies          0\n",
              "total defending    0\n",
              "Sliding tackle     0\n",
              "Standing tackle    0\n",
              "marking            0\n",
              "Weak Feet          0\n",
              "interceptions      0\n",
              "Release Clause     0\n",
              "Value              0\n",
              "Wage               0\n",
              "dtype: int64"
            ]
          },
          "metadata": {},
          "execution_count": 8
        }
      ]
    },
    {
      "cell_type": "code",
      "source": [
        "data_frame.to_csv(\"/content/drive/MyDrive/SoccerPrice/CleanedDataset.csv\",index=False)"
      ],
      "metadata": {
        "id": "c6FAp6l_yG13"
      },
      "execution_count": null,
      "outputs": []
    },
    {
      "cell_type": "markdown",
      "source": [
        "## Feature engineering"
      ],
      "metadata": {
        "id": "QqG6NjbPyV4R"
      }
    },
    {
      "cell_type": "code",
      "source": [
        "data_frame=pd.read_csv(\"/content/drive/MyDrive/SoccerPrice/CleanedDataset.csv\")"
      ],
      "metadata": {
        "id": "In11bbBgzofF"
      },
      "execution_count": null,
      "outputs": []
    },
    {
      "cell_type": "code",
      "source": [
        "# Create new Feture: Year in Club\n",
        "data_frame[\"joined Year\"]=data_frame.apply(lambda x: x[\"Joined\"].split(\",\")[-1].strip() if (len(x[\"Joined\"].split(\",\"))==2) else  x[\"Joined\"],axis=1)\n",
        "data_frame[\"joined Year\"]=data_frame[\"joined Year\"].astype(np.float64)\n",
        "data_frame[\"Year in Club\"]=2022-data_frame[\"joined Year\"]\n",
        "data_frame=data_frame.drop([\"ID\",\"Joined\",\"joined Year\"],axis=1)"
      ],
      "metadata": {
        "id": "SuTsI3uDyVTS"
      },
      "execution_count": null,
      "outputs": []
    },
    {
      "cell_type": "code",
      "source": [
        "# One-Hot encoding\n",
        "encoded_columns=pd.get_dummies(data_frame[\"Foot\"],prefix=\"Foot\",drop_first=True)\n",
        "data_frame=data_frame.join(encoded_columns).drop(\"Foot\",axis=1)"
      ],
      "metadata": {
        "id": "syGgEHcwBe3G"
      },
      "execution_count": null,
      "outputs": []
    },
    {
      "cell_type": "code",
      "source": [
        "data_frame.groupby(\"Club\").count()[\"Name\"].sort_values(ascending=False)"
      ],
      "metadata": {
        "colab": {
          "base_uri": "https://localhost:8080/"
        },
        "id": "wKnbJE_P0Avb",
        "outputId": "53113bfd-ec45-4afb-d980-52e116a98bab"
      },
      "execution_count": null,
      "outputs": [
        {
          "output_type": "execute_result",
          "data": {
            "text/plain": [
              "Club\n",
              "Real Betis Balompié    33\n",
              "FC Barcelona           33\n",
              "Villarreal CF          33\n",
              "Newcastle United       33\n",
              "Manchester United      33\n",
              "                       ..\n",
              "Mjällby AIF             1\n",
              "Kerala Blasters FC      1\n",
              "SC East Bengal FC       1\n",
              "FSV Zwickau             1\n",
              "Tokushima Vortis        1\n",
              "Name: Name, Length: 618, dtype: int64"
            ]
          },
          "metadata": {},
          "execution_count": 13
        }
      ]
    },
    {
      "cell_type": "code",
      "source": [
        "indexes=data_frame.groupby(\"Club\").count()[\"Name\"].values.argsort()[::-1]\n",
        "sns.barplot(data_frame.groupby(\"Club\").count()[\"Name\"][indexes].values[:15],data_frame.groupby(\"Club\").count()[\"Name\"].index[indexes][:15])"
      ],
      "metadata": {
        "colab": {
          "base_uri": "https://localhost:8080/",
          "height": 285
        },
        "id": "_fIDpDiyzu7v",
        "outputId": "e0e62e52-911d-4048-bda4-fd9dec01a9b7"
      },
      "execution_count": null,
      "outputs": [
        {
          "output_type": "execute_result",
          "data": {
            "text/plain": [
              "<matplotlib.axes._subplots.AxesSubplot at 0x7feb72bf78d0>"
            ]
          },
          "metadata": {},
          "execution_count": 14
        },
        {
          "output_type": "display_data",
          "data": {
            "text/plain": [
              "<Figure size 432x288 with 1 Axes>"
            ],
            "image/png": "[encoded data removed]"
          },
          "metadata": {}
        }
      ]
    },
    {
      "cell_type": "code",
      "source": [
        "# Assign \"other\" to low frequency Clubs,Nationalities\n",
        "counts_serie=data_frame[\"Nationality\"].value_counts()\n",
        "data_frame[\"NewCountry\"]=data_frame.apply(lambda x: \"Other\" if (counts_serie.loc[x[\"Nationality\"]]<=2) else x[\"Nationality\"],axis=1)\n",
        "counts_serie=data_frame[\"Club\"].value_counts()\n",
        "data_frame[\"NewClub\"]=data_frame.apply(lambda x: \"Other\" if (counts_serie.loc[x[\"Club\"]]<=2) else x[\"Club\"],axis=1)\n",
        "data_frame=data_frame.drop([\"Nationality\",\"Club\"],axis=1)\n",
        "data_frame=data_frame.dropna(axis=0)"
      ],
      "metadata": {
        "id": "lPkMGSAFzdz9"
      },
      "execution_count": null,
      "outputs": []
    },
    {
      "cell_type": "code",
      "source": [
        "# Binning \"Best Poisition\"\n",
        "defence_poss=[\"LB\",\"CB\",\"RB\",\"RWB\",\"LWB\"]\n",
        "center_poss=[\"CDM\",\"CM\",\"CAM\",\"RM\",\"LM\"]\n",
        "attack_poss=[\"LW\",\"RW\",\"CF\",\"ST\",\"RF\",\"LF\"]\n",
        "goal_keeper=[\"GK\"]\n",
        "def getPosition(pos):\n",
        "  if pos in defence_poss:\n",
        "    return \"D\"\n",
        "  if pos in center_poss:\n",
        "    return \"C\"\n",
        "  if pos in attack_poss:\n",
        "    return \"A\"\n",
        "  if pos in goal_keeper:\n",
        "    return \"G\"\n",
        "\n",
        "data_frame[\"Position\"]=data_frame.apply(lambda x: getPosition(x[\"Best Position\"]),axis=1)\n",
        "data_frame=data_frame.drop([\"Best Position\"],axis=1)"
      ],
      "metadata": {
        "id": "U4t6zXip3HsY"
      },
      "execution_count": null,
      "outputs": []
    },
    {
      "cell_type": "code",
      "source": [
        "sns.distplot(data_frame[\"Value\"],hist=False)"
      ],
      "metadata": {
        "colab": {
          "base_uri": "https://localhost:8080/",
          "height": 302
        },
        "id": "Y4NeLQ5N4LZY",
        "outputId": "d2357c8c-e565-418a-c1ce-b0276df76913"
      },
      "execution_count": null,
      "outputs": [
        {
          "output_type": "execute_result",
          "data": {
            "text/plain": [
              "<matplotlib.axes._subplots.AxesSubplot at 0x7feb748426d0>"
            ]
          },
          "metadata": {},
          "execution_count": 17
        },
        {
          "output_type": "display_data",
          "data": {
            "text/plain": [
              "<Figure size 432x288 with 1 Axes>"
            ],
            "image/png": "[encoded data removed]"
          },
          "metadata": {}
        }
      ]
    },
    {
      "cell_type": "code",
      "source": [
        "# Use log transformation due to right skew\n",
        "data_frame[\"log Value\"]=np.log(data_frame[\"Value\"])\n",
        "sns.distplot(data_frame[\"log Value\"],hist=False)"
      ],
      "metadata": {
        "colab": {
          "base_uri": "https://localhost:8080/",
          "height": 302
        },
        "id": "w7ZYXvT14l64",
        "outputId": "42f714ac-d37c-4a70-8e30-4cde0bd007c0"
      },
      "execution_count": null,
      "outputs": [
        {
          "output_type": "execute_result",
          "data": {
            "text/plain": [
              "<matplotlib.axes._subplots.AxesSubplot at 0x7feb73748690>"
            ]
          },
          "metadata": {},
          "execution_count": 18
        },
        {
          "output_type": "display_data",
          "data": {
            "text/plain": [
              "<Figure size 432x288 with 1 Axes>"
            ],
            "image/png": "[encoded data removed]"
          },
          "metadata": {}
        }
      ]
    },
    {
      "cell_type": "code",
      "source": [
        "data_frame=data_frame.drop(data_frame[data_frame[\"Value\"]==0].index,axis=0)\n",
        "data_frame.to_csv(\"/content/drive/MyDrive/SoccerPrice/WithOutOneHotEncodedDataset.csv\",index=False)\n",
        "data_frame[data_frame[\"Value\"]==0]"
      ],
      "metadata": {
        "id": "6O3FU19e5gNq",
        "colab": {
          "base_uri": "https://localhost:8080/",
          "height": 140
        },
        "outputId": "95e26e3e-c07a-4ffe-e585-259683ce4305"
      },
      "execution_count": null,
      "outputs": [
        {
          "output_type": "execute_result",
          "data": {
            "text/plain": [
              "Empty DataFrame\n",
              "Columns: [Name, Age, Overall, Potential, Height, Weight, Reputation, total Attack, crossing, finishing, headingAcc, Fk Acc, total Skill, dribbling, ballControl, Short Passing, Long Passing, total Movement, sprint, agility, total power, Shot Power, Long Shots, Stamina, total Mentality, Pentalies, total defending, Sliding tackle, Standing tackle, marking, Weak Feet, interceptions, Release Clause, Value, Wage, Year in Club, Foot_Right, NewCountry, NewClub, Position, log Value]\n",
              "Index: []\n",
              "\n",
              "[0 rows x 41 columns]"
            ],
            "text/html": [
              "\n",
              "  <div id=\"df-d63034fe-5a05-4dab-87cd-c024afa027c5\">\n",
              "    <div class=\"colab-df-container\">\n",
              "      <div>\n",
              "<style scoped>\n",
              "    .dataframe tbody tr th:only-of-type {\n",
              "        vertical-align: middle;\n",
              "    }\n",
              "\n",
              "    .dataframe tbody tr th {\n",
              "        vertical-align: top;\n",
              "    }\n",
              "\n",
              "    .dataframe thead th {\n",
              "        text-align: right;\n",
              "    }\n",
              "</style>\n",
              "<table border=\"1\" class=\"dataframe\">\n",
              "  <thead>\n",
              "    <tr style=\"text-align: right;\">\n",
              "      <th></th>\n",
              "      <th>Name</th>\n",
              "      <th>Age</th>\n",
              "      <th>Overall</th>\n",
              "      <th>Potential</th>\n",
              "      <th>Height</th>\n",
              "      <th>Weight</th>\n",
              "      <th>Reputation</th>\n",
              "      <th>total Attack</th>\n",
              "      <th>crossing</th>\n",
              "      <th>finishing</th>\n",
              "      <th>...</th>\n",
              "      <th>interceptions</th>\n",
              "      <th>Release Clause</th>\n",
              "      <th>Value</th>\n",
              "      <th>Wage</th>\n",
              "      <th>Year in Club</th>\n",
              "      <th>Foot_Right</th>\n",
              "      <th>NewCountry</th>\n",
              "      <th>NewClub</th>\n",
              "      <th>Position</th>\n",
              "      <th>log Value</th>\n",
              "    </tr>\n",
              "  </thead>\n",
              "  <tbody>\n",
              "  </tbody>\n",
              "</table>\n",
              "<p>0 rows × 41 columns</p>\n",
              "</div>\n",
              "      <button class=\"colab-df-convert\" onclick=\"convertToInteractive('df-d63034fe-5a05-4dab-87cd-c024afa027c5')\"\n",
              "              title=\"Convert this dataframe to an interactive table.\"\n",
              "              style=\"display:none;\">\n",
              "        \n",
              "  <svg xmlns=\"http://www.w3.org/2000/svg\" height=\"24px\"viewBox=\"0 0 24 24\"\n",
              "       width=\"24px\">\n",
              "    <path d=\"M0 0h24v24H0V0z\" fill=\"none\"/>\n",
              "    <path d=\"M18.56 5.44l.94 2.06.94-2.06 2.06-.94-2.06-.94-.94-2.06-.94 2.06-2.06.94zm-11 1L8.5 8.5l.94-2.06 2.06-.94-2.06-.94L8.5 2.5l-.94 2.06-2.06.94zm10 10l.94 2.06.94-2.06 2.06-.94-2.06-.94-.94-2.06-.94 2.06-2.06.94z\"/><path d=\"M17.41 7.96l-1.37-1.37c-.4-.4-.92-.59-1.43-.59-.52 0-1.04.2-1.43.59L10.3 9.45l-7.72 7.72c-.78.78-.78 2.05 0 2.83L4 21.41c.39.39.9.59 1.41.59.51 0 1.02-.2 1.41-.59l7.78-7.78 2.81-2.81c.8-.78.8-2.07 0-2.86zM5.41 20L4 18.59l7.72-7.72 1.47 1.35L5.41 20z\"/>\n",
              "  </svg>\n",
              "      </button>\n",
              "      \n",
              "  <style>\n",
              "    .colab-df-container {\n",
              "      display:flex;\n",
              "      flex-wrap:wrap;\n",
              "      gap: 12px;\n",
              "    }\n",
              "\n",
              "    .colab-df-convert {\n",
              "      background-color: #E8F0FE;\n",
              "      border: none;\n",
              "      border-radius: 50%;\n",
              "      cursor: pointer;\n",
              "      display: none;\n",
              "      fill: #1967D2;\n",
              "      height: 32px;\n",
              "      padding: 0 0 0 0;\n",
              "      width: 32px;\n",
              "    }\n",
              "\n",
              "    .colab-df-convert:hover {\n",
              "      background-color: #E2EBFA;\n",
              "      box-shadow: 0px 1px 2px rgba(60, 64, 67, 0.3), 0px 1px 3px 1px rgba(60, 64, 67, 0.15);\n",
              "      fill: #174EA6;\n",
              "    }\n",
              "\n",
              "    [theme=dark] .colab-df-convert {\n",
              "      background-color: #3B4455;\n",
              "      fill: #D2E3FC;\n",
              "    }\n",
              "\n",
              "    [theme=dark] .colab-df-convert:hover {\n",
              "      background-color: #434B5C;\n",
              "      box-shadow: 0px 1px 3px 1px rgba(0, 0, 0, 0.15);\n",
              "      filter: drop-shadow(0px 1px 2px rgba(0, 0, 0, 0.3));\n",
              "      fill: #FFFFFF;\n",
              "    }\n",
              "  </style>\n",
              "\n",
              "      <script>\n",
              "        const buttonEl =\n",
              "          document.querySelector('#df-d63034fe-5a05-4dab-87cd-c024afa027c5 button.colab-df-convert');\n",
              "        buttonEl.style.display =\n",
              "          google.colab.kernel.accessAllowed ? 'block' : 'none';\n",
              "\n",
              "        async function convertToInteractive(key) {\n",
              "          const element = document.querySelector('#df-d63034fe-5a05-4dab-87cd-c024afa027c5');\n",
              "          const dataTable =\n",
              "            await google.colab.kernel.invokeFunction('convertToInteractive',\n",
              "                                                     [key], {});\n",
              "          if (!dataTable) return;\n",
              "\n",
              "          const docLinkHtml = 'Like what you see? Visit the ' +\n",
              "            '<a target=\"_blank\" href=https://colab.research.google.com/notebooks/data_table.ipynb>data table notebook</a>'\n",
              "            + ' to learn more about interactive tables.';\n",
              "          element.innerHTML = '';\n",
              "          dataTable['output_type'] = 'display_data';\n",
              "          await google.colab.output.renderOutput(dataTable, element);\n",
              "          const docLink = document.createElement('div');\n",
              "          docLink.innerHTML = docLinkHtml;\n",
              "          element.appendChild(docLink);\n",
              "        }\n",
              "      </script>\n",
              "    </div>\n",
              "  </div>\n",
              "  "
            ]
          },
          "metadata": {},
          "execution_count": 19
        }
      ]
    },
    {
      "cell_type": "code",
      "source": [
        "# One-Hot encoding\n",
        "encoded_columns=pd.get_dummies(data_frame[\"Position\"],prefix=\"Position\",drop_first=True)\n",
        "data_frame=data_frame.join(encoded_columns).drop(\"Position\",axis=1)\n",
        "encoded_columns=pd.get_dummies(data_frame[\"NewCountry\"],prefix=\"Country\",drop_first=True)\n",
        "data_frame=data_frame.join(encoded_columns).drop(\"NewCountry\",axis=1)\n",
        "encoded_columns=pd.get_dummies(data_frame[\"NewClub\"],prefix=\"Club\",drop_first=True)\n",
        "data_frame=data_frame.join(encoded_columns).drop(\"NewClub\",axis=1)\n",
        "data_frame.to_csv(\"/content/drive/MyDrive/SoccerPrice/OneHotEncodedDataset.csv\",index=False)\n",
        "data_frame.head(3)"
      ],
      "metadata": {
        "colab": {
          "base_uri": "https://localhost:8080/",
          "height": 324
        },
        "id": "bmlpsxzS5wTN",
        "outputId": "dd560b63-d87b-4152-e537-087a3334808f"
      },
      "execution_count": null,
      "outputs": [
        {
          "output_type": "execute_result",
          "data": {
            "text/plain": [
              "              Name  Age  Overall  Potential  Height  Weight  Reputation  \\\n",
              "0    Karim Benzema   33       91         91   185.0    81.0           4   \n",
              "1    Mohamed Salah   29       91         91   175.0    71.0           4   \n",
              "2  Kevin De Bruyne   30       91         91   181.0    70.0           4   \n",
              "\n",
              "   total Attack  crossing  finishing  ...  Club_Wycombe Wanderers  \\\n",
              "0           434        75         92  ...                       0   \n",
              "1           402        81         93  ...                       0   \n",
              "2           408        94         83  ...                       0   \n",
              "\n",
              "   Club_Yeni Malatyaspor  Club_Yokohama F. Marinos  Club_Yokohama FC  \\\n",
              "0                      0                         0                 0   \n",
              "1                      0                         0                 0   \n",
              "2                      0                         0                 0   \n",
              "\n",
              "   Club_Yukatel Kayserispor  Club_Zagłębie Lubin  Club_Çaykur Rizespor  \\\n",
              "0                         0                    0                     0   \n",
              "1                         0                    0                     0   \n",
              "2                         0                    0                     0   \n",
              "\n",
              "   Club_İstanbul Başakşehir FK  Club_İttifak Holding Konyaspor  \\\n",
              "0                            0                               0   \n",
              "1                            0                               0   \n",
              "2                            0                               0   \n",
              "\n",
              "   Club_Śląsk Wrocław  \n",
              "0                   0  \n",
              "1                   0  \n",
              "2                   0  \n",
              "\n",
              "[3 rows x 748 columns]"
            ],
            "text/html": [
              "\n",
              "  <div id=\"df-8f5fcdb0-6323-44b1-a899-c23526a27778\">\n",
              "    <div class=\"colab-df-container\">\n",
              "      <div>\n",
              "<style scoped>\n",
              "    .dataframe tbody tr th:only-of-type {\n",
              "        vertical-align: middle;\n",
              "    }\n",
              "\n",
              "    .dataframe tbody tr th {\n",
              "        vertical-align: top;\n",
              "    }\n",
              "\n",
              "    .dataframe thead th {\n",
              "        text-align: right;\n",
              "    }\n",
              "</style>\n",
              "<table border=\"1\" class=\"dataframe\">\n",
              "  <thead>\n",
              "    <tr style=\"text-align: right;\">\n",
              "      <th></th>\n",
              "      <th>Name</th>\n",
              "      <th>Age</th>\n",
              "      <th>Overall</th>\n",
              "      <th>Potential</th>\n",
              "      <th>Height</th>\n",
              "      <th>Weight</th>\n",
              "      <th>Reputation</th>\n",
              "      <th>total Attack</th>\n",
              "      <th>crossing</th>\n",
              "      <th>finishing</th>\n",
              "      <th>...</th>\n",
              "      <th>Club_Wycombe Wanderers</th>\n",
              "      <th>Club_Yeni Malatyaspor</th>\n",
              "      <th>Club_Yokohama F. Marinos</th>\n",
              "      <th>Club_Yokohama FC</th>\n",
              "      <th>Club_Yukatel Kayserispor</th>\n",
              "      <th>Club_Zagłębie Lubin</th>\n",
              "      <th>Club_Çaykur Rizespor</th>\n",
              "      <th>Club_İstanbul Başakşehir FK</th>\n",
              "      <th>Club_İttifak Holding Konyaspor</th>\n",
              "      <th>Club_Śląsk Wrocław</th>\n",
              "    </tr>\n",
              "  </thead>\n",
              "  <tbody>\n",
              "    <tr>\n",
              "      <th>0</th>\n",
              "      <td>Karim Benzema</td>\n",
              "      <td>33</td>\n",
              "      <td>91</td>\n",
              "      <td>91</td>\n",
              "      <td>185.0</td>\n",
              "      <td>81.0</td>\n",
              "      <td>4</td>\n",
              "      <td>434</td>\n",
              "      <td>75</td>\n",
              "      <td>92</td>\n",
              "      <td>...</td>\n",
              "      <td>0</td>\n",
              "      <td>0</td>\n",
              "      <td>0</td>\n",
              "      <td>0</td>\n",
              "      <td>0</td>\n",
              "      <td>0</td>\n",
              "      <td>0</td>\n",
              "      <td>0</td>\n",
              "      <td>0</td>\n",
              "      <td>0</td>\n",
              "    </tr>\n",
              "    <tr>\n",
              "      <th>1</th>\n",
              "      <td>Mohamed Salah</td>\n",
              "      <td>29</td>\n",
              "      <td>91</td>\n",
              "      <td>91</td>\n",
              "      <td>175.0</td>\n",
              "      <td>71.0</td>\n",
              "      <td>4</td>\n",
              "      <td>402</td>\n",
              "      <td>81</td>\n",
              "      <td>93</td>\n",
              "      <td>...</td>\n",
              "      <td>0</td>\n",
              "      <td>0</td>\n",
              "      <td>0</td>\n",
              "      <td>0</td>\n",
              "      <td>0</td>\n",
              "      <td>0</td>\n",
              "      <td>0</td>\n",
              "      <td>0</td>\n",
              "      <td>0</td>\n",
              "      <td>0</td>\n",
              "    </tr>\n",
              "    <tr>\n",
              "      <th>2</th>\n",
              "      <td>Kevin De Bruyne</td>\n",
              "      <td>30</td>\n",
              "      <td>91</td>\n",
              "      <td>91</td>\n",
              "      <td>181.0</td>\n",
              "      <td>70.0</td>\n",
              "      <td>4</td>\n",
              "      <td>408</td>\n",
              "      <td>94</td>\n",
              "      <td>83</td>\n",
              "      <td>...</td>\n",
              "      <td>0</td>\n",
              "      <td>0</td>\n",
              "      <td>0</td>\n",
              "      <td>0</td>\n",
              "      <td>0</td>\n",
              "      <td>0</td>\n",
              "      <td>0</td>\n",
              "      <td>0</td>\n",
              "      <td>0</td>\n",
              "      <td>0</td>\n",
              "    </tr>\n",
              "  </tbody>\n",
              "</table>\n",
              "<p>3 rows × 748 columns</p>\n",
              "</div>\n",
              "      <button class=\"colab-df-convert\" onclick=\"convertToInteractive('df-8f5fcdb0-6323-44b1-a899-c23526a27778')\"\n",
              "              title=\"Convert this dataframe to an interactive table.\"\n",
              "              style=\"display:none;\">\n",
              "        \n",
              "  <svg xmlns=\"http://www.w3.org/2000/svg\" height=\"24px\"viewBox=\"0 0 24 24\"\n",
              "       width=\"24px\">\n",
              "    <path d=\"M0 0h24v24H0V0z\" fill=\"none\"/>\n",
              "    <path d=\"M18.56 5.44l.94 2.06.94-2.06 2.06-.94-2.06-.94-.94-2.06-.94 2.06-2.06.94zm-11 1L8.5 8.5l.94-2.06 2.06-.94-2.06-.94L8.5 2.5l-.94 2.06-2.06.94zm10 10l.94 2.06.94-2.06 2.06-.94-2.06-.94-.94-2.06-.94 2.06-2.06.94z\"/><path d=\"M17.41 7.96l-1.37-1.37c-.4-.4-.92-.59-1.43-.59-.52 0-1.04.2-1.43.59L10.3 9.45l-7.72 7.72c-.78.78-.78 2.05 0 2.83L4 21.41c.39.39.9.59 1.41.59.51 0 1.02-.2 1.41-.59l7.78-7.78 2.81-2.81c.8-.78.8-2.07 0-2.86zM5.41 20L4 18.59l7.72-7.72 1.47 1.35L5.41 20z\"/>\n",
              "  </svg>\n",
              "      </button>\n",
              "      \n",
              "  <style>\n",
              "    .colab-df-container {\n",
              "      display:flex;\n",
              "      flex-wrap:wrap;\n",
              "      gap: 12px;\n",
              "    }\n",
              "\n",
              "    .colab-df-convert {\n",
              "      background-color: #E8F0FE;\n",
              "      border: none;\n",
              "      border-radius: 50%;\n",
              "      cursor: pointer;\n",
              "      display: none;\n",
              "      fill: #1967D2;\n",
              "      height: 32px;\n",
              "      padding: 0 0 0 0;\n",
              "      width: 32px;\n",
              "    }\n",
              "\n",
              "    .colab-df-convert:hover {\n",
              "      background-color: #E2EBFA;\n",
              "      box-shadow: 0px 1px 2px rgba(60, 64, 67, 0.3), 0px 1px 3px 1px rgba(60, 64, 67, 0.15);\n",
              "      fill: #174EA6;\n",
              "    }\n",
              "\n",
              "    [theme=dark] .colab-df-convert {\n",
              "      background-color: #3B4455;\n",
              "      fill: #D2E3FC;\n",
              "    }\n",
              "\n",
              "    [theme=dark] .colab-df-convert:hover {\n",
              "      background-color: #434B5C;\n",
              "      box-shadow: 0px 1px 3px 1px rgba(0, 0, 0, 0.15);\n",
              "      filter: drop-shadow(0px 1px 2px rgba(0, 0, 0, 0.3));\n",
              "      fill: #FFFFFF;\n",
              "    }\n",
              "  </style>\n",
              "\n",
              "      <script>\n",
              "        const buttonEl =\n",
              "          document.querySelector('#df-8f5fcdb0-6323-44b1-a899-c23526a27778 button.colab-df-convert');\n",
              "        buttonEl.style.display =\n",
              "          google.colab.kernel.accessAllowed ? 'block' : 'none';\n",
              "\n",
              "        async function convertToInteractive(key) {\n",
              "          const element = document.querySelector('#df-8f5fcdb0-6323-44b1-a899-c23526a27778');\n",
              "          const dataTable =\n",
              "            await google.colab.kernel.invokeFunction('convertToInteractive',\n",
              "                                                     [key], {});\n",
              "          if (!dataTable) return;\n",
              "\n",
              "          const docLinkHtml = 'Like what you see? Visit the ' +\n",
              "            '<a target=\"_blank\" href=https://colab.research.google.com/notebooks/data_table.ipynb>data table notebook</a>'\n",
              "            + ' to learn more about interactive tables.';\n",
              "          element.innerHTML = '';\n",
              "          dataTable['output_type'] = 'display_data';\n",
              "          await google.colab.output.renderOutput(dataTable, element);\n",
              "          const docLink = document.createElement('div');\n",
              "          docLink.innerHTML = docLinkHtml;\n",
              "          element.appendChild(docLink);\n",
              "        }\n",
              "      </script>\n",
              "    </div>\n",
              "  </div>\n",
              "  "
            ]
          },
          "metadata": {},
          "execution_count": 20
        }
      ]
    },
    {
      "cell_type": "markdown",
      "source": [
        "## EDA"
      ],
      "metadata": {
        "id": "ASpSvdvk_znP"
      }
    },
    {
      "cell_type": "code",
      "source": [
        "df=pd.read_csv(\"/content/drive/MyDrive/SoccerPrice/WithOutOneHotEncodedDataset.csv\")\n",
        "data_frame=pd.read_csv(\"/content/drive/MyDrive/SoccerPrice/OneHotEncodedDataset.csv\")"
      ],
      "metadata": {
        "id": "SLWLCwaD9oEa"
      },
      "execution_count": null,
      "outputs": []
    },
    {
      "cell_type": "code",
      "source": [
        "fig,axs=plt.subplots(3,3,figsize=(15,12))\n",
        "cols=[\"Age\",\"Overall\",\"Height\",\"Weight\",\"Release Clause\",\"Value\",\"log Value\",\"Wage\",\"Year in Club\"]\n",
        "counter=0\n",
        "for col in cols:\n",
        "  sns.distplot(df[col],ax=axs[counter//3,counter%3])\n",
        "  counter=counter+1"
      ],
      "metadata": {
        "colab": {
          "base_uri": "https://localhost:8080/",
          "height": 720
        },
        "id": "eF1f8M6pFWRR",
        "outputId": "11295e21-8b6e-4213-96e1-564f636cfaaf"
      },
      "execution_count": null,
      "outputs": [
        {
          "output_type": "display_data",
          "data": {
            "text/plain": [
              "<Figure size 1080x864 with 9 Axes>"
            ],
            "image/png": "[encoded data removed]"
          },
          "metadata": {}
        }
      ]
    },
    {
      "cell_type": "code",
      "source": [
        "\n",
        "# fig,axs=plt.subplots(3,3,figsize=(15,12))\n",
        "# counter=0\n",
        "# cols=[\"Age\",\"Overall\",\"Height\",\"Weight\",\"Release Clause\",\"Value\",\"Wage\",\"Year in Club\",\"log Value\"]\n",
        "# for col in cols:\n",
        "#   with sns.axes_style(\"whitegrid\"):\n",
        "#     sns.boxplot(y=df[col],ax=axs[counter//3,counter%3],palette=\"Set2\",linewidth=0.5,width=0.3).set(xlabel=col,ylabel=\"\")\n",
        "#     counter=counter+1"
      ],
      "metadata": {
        "id": "DZe6_q7fFixJ"
      },
      "execution_count": null,
      "outputs": []
    },
    {
      "cell_type": "markdown",
      "source": [
        "\n",
        "\n",
        "***Let's seee some interesting correlation between our variables :***\n",
        "\n",
        ">*  *The correlation between dribbling skills and Height is negative and equal to : -0.51*\n",
        "* *The correlation between sprint and Age is negative and equal to : -0.35*\n",
        ">*   *The correlation between defending skills and heading accuracy is negative and equal to : 0.48*\n",
        ">*   *The correlation between sprint and Weight is negative and equal to : -0.36*\n",
        "*   *The correlation between shot Power and finishing is negative and equal to  : 0.74* \n",
        "\n",
        "\n",
        "---\n",
        "\n",
        "\n",
        "\n",
        "\n",
        "\n"
      ],
      "metadata": {
        "id": "JE3NQYVmCi7r"
      }
    },
    {
      "cell_type": "code",
      "source": [
        "correlation=df[\"dribbling\"].corr(data_frame[\"Height\"])\n",
        "print(correlation)\n",
        "\n",
        "correlation=df[\"sprint\"].corr(data_frame[\"Age\"])\n",
        "print(correlation)\n",
        "\n",
        "correlation=df[\"total defending\"].corr(data_frame[\"headingAcc\"])\n",
        "print(correlation)\n",
        "\n",
        "correlation=df[\"sprint\"].corr(data_frame[\"Weight\"])\n",
        "print(correlation)\n",
        "\n",
        "correlation=df[\"Shot Power\"].corr(data_frame[\"finishing\"])\n",
        "print(correlation)"
      ],
      "metadata": {
        "colab": {
          "base_uri": "https://localhost:8080/"
        },
        "id": "RtiedTRIgG77",
        "outputId": "d304c7dc-733a-459d-e24e-cece2bc44664"
      },
      "execution_count": null,
      "outputs": [
        {
          "output_type": "stream",
          "name": "stdout",
          "text": [
            "-0.4960664998354809\n",
            "-0.25839848723291997\n",
            "0.5202790447333348\n",
            "-0.40941049611031316\n",
            "0.7387506170742906\n"
          ]
        }
      ]
    },
    {
      "cell_type": "code",
      "source": [
        "df.corr()[[\"log Value\"]].sort_values(by=\"log Value\",ascending=False).head(10)"
      ],
      "metadata": {
        "colab": {
          "base_uri": "https://localhost:8080/",
          "height": 363
        },
        "id": "RdJAOTETIOT7",
        "outputId": "b78a4d00-3b61-44c1-fdd7-b1f5020f83ce"
      },
      "execution_count": null,
      "outputs": [
        {
          "output_type": "execute_result",
          "data": {
            "text/plain": [
              "               log Value\n",
              "log Value       1.000000\n",
              "Potential       0.757349\n",
              "Overall         0.739927\n",
              "Value           0.425447\n",
              "Short Passing   0.422700\n",
              "Wage            0.413951\n",
              "ballControl     0.397699\n",
              "Shot Power      0.374512\n",
              "Long Passing    0.368359\n",
              "total power     0.364350"
            ],
            "text/html": [
              "\n",
              "  <div id=\"df-945818cb-1d7f-4798-a680-86ca35733a64\">\n",
              "    <div class=\"colab-df-container\">\n",
              "      <div>\n",
              "<style scoped>\n",
              "    .dataframe tbody tr th:only-of-type {\n",
              "        vertical-align: middle;\n",
              "    }\n",
              "\n",
              "    .dataframe tbody tr th {\n",
              "        vertical-align: top;\n",
              "    }\n",
              "\n",
              "    .dataframe thead th {\n",
              "        text-align: right;\n",
              "    }\n",
              "</style>\n",
              "<table border=\"1\" class=\"dataframe\">\n",
              "  <thead>\n",
              "    <tr style=\"text-align: right;\">\n",
              "      <th></th>\n",
              "      <th>log Value</th>\n",
              "    </tr>\n",
              "  </thead>\n",
              "  <tbody>\n",
              "    <tr>\n",
              "      <th>log Value</th>\n",
              "      <td>1.000000</td>\n",
              "    </tr>\n",
              "    <tr>\n",
              "      <th>Potential</th>\n",
              "      <td>0.757349</td>\n",
              "    </tr>\n",
              "    <tr>\n",
              "      <th>Overall</th>\n",
              "      <td>0.739927</td>\n",
              "    </tr>\n",
              "    <tr>\n",
              "      <th>Value</th>\n",
              "      <td>0.425447</td>\n",
              "    </tr>\n",
              "    <tr>\n",
              "      <th>Short Passing</th>\n",
              "      <td>0.422700</td>\n",
              "    </tr>\n",
              "    <tr>\n",
              "      <th>Wage</th>\n",
              "      <td>0.413951</td>\n",
              "    </tr>\n",
              "    <tr>\n",
              "      <th>ballControl</th>\n",
              "      <td>0.397699</td>\n",
              "    </tr>\n",
              "    <tr>\n",
              "      <th>Shot Power</th>\n",
              "      <td>0.374512</td>\n",
              "    </tr>\n",
              "    <tr>\n",
              "      <th>Long Passing</th>\n",
              "      <td>0.368359</td>\n",
              "    </tr>\n",
              "    <tr>\n",
              "      <th>total power</th>\n",
              "      <td>0.364350</td>\n",
              "    </tr>\n",
              "  </tbody>\n",
              "</table>\n",
              "</div>\n",
              "      <button class=\"colab-df-convert\" onclick=\"convertToInteractive('df-945818cb-1d7f-4798-a680-86ca35733a64')\"\n",
              "              title=\"Convert this dataframe to an interactive table.\"\n",
              "              style=\"display:none;\">\n",
              "        \n",
              "  <svg xmlns=\"http://www.w3.org/2000/svg\" height=\"24px\"viewBox=\"0 0 24 24\"\n",
              "       width=\"24px\">\n",
              "    <path d=\"M0 0h24v24H0V0z\" fill=\"none\"/>\n",
              "    <path d=\"M18.56 5.44l.94 2.06.94-2.06 2.06-.94-2.06-.94-.94-2.06-.94 2.06-2.06.94zm-11 1L8.5 8.5l.94-2.06 2.06-.94-2.06-.94L8.5 2.5l-.94 2.06-2.06.94zm10 10l.94 2.06.94-2.06 2.06-.94-2.06-.94-.94-2.06-.94 2.06-2.06.94z\"/><path d=\"M17.41 7.96l-1.37-1.37c-.4-.4-.92-.59-1.43-.59-.52 0-1.04.2-1.43.59L10.3 9.45l-7.72 7.72c-.78.78-.78 2.05 0 2.83L4 21.41c.39.39.9.59 1.41.59.51 0 1.02-.2 1.41-.59l7.78-7.78 2.81-2.81c.8-.78.8-2.07 0-2.86zM5.41 20L4 18.59l7.72-7.72 1.47 1.35L5.41 20z\"/>\n",
              "  </svg>\n",
              "      </button>\n",
              "      \n",
              "  <style>\n",
              "    .colab-df-container {\n",
              "      display:flex;\n",
              "      flex-wrap:wrap;\n",
              "      gap: 12px;\n",
              "    }\n",
              "\n",
              "    .colab-df-convert {\n",
              "      background-color: #E8F0FE;\n",
              "      border: none;\n",
              "      border-radius: 50%;\n",
              "      cursor: pointer;\n",
              "      display: none;\n",
              "      fill: #1967D2;\n",
              "      height: 32px;\n",
              "      padding: 0 0 0 0;\n",
              "      width: 32px;\n",
              "    }\n",
              "\n",
              "    .colab-df-convert:hover {\n",
              "      background-color: #E2EBFA;\n",
              "      box-shadow: 0px 1px 2px rgba(60, 64, 67, 0.3), 0px 1px 3px 1px rgba(60, 64, 67, 0.15);\n",
              "      fill: #174EA6;\n",
              "    }\n",
              "\n",
              "    [theme=dark] .colab-df-convert {\n",
              "      background-color: #3B4455;\n",
              "      fill: #D2E3FC;\n",
              "    }\n",
              "\n",
              "    [theme=dark] .colab-df-convert:hover {\n",
              "      background-color: #434B5C;\n",
              "      box-shadow: 0px 1px 3px 1px rgba(0, 0, 0, 0.15);\n",
              "      filter: drop-shadow(0px 1px 2px rgba(0, 0, 0, 0.3));\n",
              "      fill: #FFFFFF;\n",
              "    }\n",
              "  </style>\n",
              "\n",
              "      <script>\n",
              "        const buttonEl =\n",
              "          document.querySelector('#df-945818cb-1d7f-4798-a680-86ca35733a64 button.colab-df-convert');\n",
              "        buttonEl.style.display =\n",
              "          google.colab.kernel.accessAllowed ? 'block' : 'none';\n",
              "\n",
              "        async function convertToInteractive(key) {\n",
              "          const element = document.querySelector('#df-945818cb-1d7f-4798-a680-86ca35733a64');\n",
              "          const dataTable =\n",
              "            await google.colab.kernel.invokeFunction('convertToInteractive',\n",
              "                                                     [key], {});\n",
              "          if (!dataTable) return;\n",
              "\n",
              "          const docLinkHtml = 'Like what you see? Visit the ' +\n",
              "            '<a target=\"_blank\" href=https://colab.research.google.com/notebooks/data_table.ipynb>data table notebook</a>'\n",
              "            + ' to learn more about interactive tables.';\n",
              "          element.innerHTML = '';\n",
              "          dataTable['output_type'] = 'display_data';\n",
              "          await google.colab.output.renderOutput(dataTable, element);\n",
              "          const docLink = document.createElement('div');\n",
              "          docLink.innerHTML = docLinkHtml;\n",
              "          element.appendChild(docLink);\n",
              "        }\n",
              "      </script>\n",
              "    </div>\n",
              "  </div>\n",
              "  "
            ]
          },
          "metadata": {},
          "execution_count": 25
        }
      ]
    },
    {
      "cell_type": "code",
      "source": [
        "# fig,axs=plt.subplots(4,4,figsize=(20,8))\n",
        "# fig.suptitle(\"Reg Plots\", fontsize=15)\n",
        "# counter=0\n",
        "# cols=[\"Age\",\"Overall\",\"Height\",\"Weight\",\"Release Clause\",\"dribbling\",\"Wage\",\"Year in Club\"]\n",
        "# for col in cols:\n",
        "#   with sns.axes_style(\"whitegrid\"):\n",
        "#     sns.regplot(data=data_frame,x=col,y=\"Value\",ax=axs[counter//4,counter%4])\n",
        "#     counter=counter+1\n",
        "#     sns.regplot(data=data_frame,x=col,y=\"log Value\",ax=axs[counter//4,counter%4])\n",
        "#     counter=counter+1"
      ],
      "metadata": {
        "id": "BpBRaeBVIvfd"
      },
      "execution_count": null,
      "outputs": []
    },
    {
      "cell_type": "code",
      "source": [
        "from scipy import stats\n",
        "statistics=stats.ttest_ind(df[df[\"Foot_Right\"]==1][\"log Value\"],df[df[\"Foot_Right\"]==0][\"log Value\"])\n",
        "print(f\"P-Value: {statistics[1]}\")\n",
        "statistics=stats.ttest_ind(df[df[\"NewClub\"]==\"Real Madrid CF\"][\"log Value\"],df[df[\"NewClub\"]==\"FC Barcelona\"][\"log Value\"])\n",
        "print(f\"P-Value: {statistics[1]}\")\n",
        "statistics=stats.ttest_ind(df[df[\"NewClub\"]==\"Real Madrid CF\"][\"log Value\"],df[df[\"NewClub\"]==\"Other\"][\"log Value\"])\n",
        "print(f\"P-Value: {statistics[1]}\")\n",
        "statistics=stats.ttest_ind(df[df[\"NewClub\"]==\"Real Madrid CF\"][\"log Value\"],df[df[\"NewClub\"]==\"Newcastle United\"][\"log Value\"])\n",
        "print(f\"P-Value: {statistics[1]}\")\n",
        "# statistics=stats.ttest_ind(df[df[\"Foot_Right\"]==1][\"Weak Feet\"],df[df[\"Foot_Right\"]==0][\"Weak Feet\"])\n",
        "# print(f\"P-Value: {statistics[1]}\")\n",
        "# print(df[df[\"Foot_Right\"]==1][\"Weak Feet\"].mean())\n",
        "# print(df[df[\"Foot_Right\"]==0][\"Weak Feet\"].mean())\n"
      ],
      "metadata": {
        "id": "iXjt1FUrJK4e",
        "colab": {
          "base_uri": "https://localhost:8080/"
        },
        "outputId": "d3801c78-8f0c-47da-c0bd-b3e8f3c71ca1"
      },
      "execution_count": null,
      "outputs": [
        {
          "output_type": "stream",
          "name": "stdout",
          "text": [
            "P-Value: 0.00015745719944191901\n",
            "P-Value: 0.719729647787925\n",
            "P-Value: 1.0387139115587713e-10\n",
            "P-Value: 0.0012475734901687828\n"
          ]
        }
      ]
    },
    {
      "cell_type": "markdown",
      "source": [
        "\n",
        "*  *Large p-value indicate that there is not significant difference between log-value of **right footed** players and **left footed** players in our dataset.*\n",
        "\n",
        "---\n",
        "* *Large p-value indicate that there is not significant difference between log-value of **Real madrid's** and **Barcelona's** players in our dataset.*\n",
        "---\n",
        "* *Low p-value indicate that there is a significant difference between log-value of **Real madrid's** and **'Other'** players in our dataset.*\n",
        "\n",
        "---\n",
        "* *Low p-value indicate that there is a significant difference between log-value of **Real madrid's** and **Newcastle United's** players in our dataset.*\n",
        "\n",
        "\n",
        "\n",
        "\n",
        "\n"
      ],
      "metadata": {
        "id": "8-bSGOSTbWxs"
      }
    },
    {
      "cell_type": "markdown",
      "source": [
        "## Machine Learning"
      ],
      "metadata": {
        "id": "8GAXOmPL_2nt"
      }
    },
    {
      "cell_type": "code",
      "source": [
        "## Prepare dataset for machine learning part\n",
        "df=pd.read_csv(\"/content/drive/MyDrive/SoccerPrice/WithOutOneHotEncodedDataset.csv\")\n",
        "data_frame=pd.read_csv(\"/content/drive/MyDrive/SoccerPrice/OneHotEncodedDataset.csv\")\n",
        "df_model=pd.DataFrame()\n",
        "df_model[\"Name\"]=data_frame[\"Name\"]\n",
        "df_model[\"NewClub\"]=df[\"NewClub\"]\n",
        "df_model[\"NewCountry\"]=df[\"NewCountry\"]\n",
        "df_model[\"Age\"]=data_frame[\"Age\"]\n",
        "df_model[\"Height\"]=data_frame[\"Height\"]\n",
        "df_model[\"Weight\"]=data_frame[\"Weight\"]\n",
        "df_model[\"Reputation\"]=data_frame[\"Reputation\"]\n",
        "df_model[\"Overall\"]=data_frame[\"Overall\"]\n",
        "df_model[\"Potential\"]=data_frame[\"Potential\"]\n",
        "df_model[\"Ball Control\"]=(data_frame[\"ballControl\"]+data_frame[\"dribbling\"])/2\n",
        "df_model[\"totalDefence\"]=data_frame[\"total defending\"]\n",
        "df_model[\"totalAttack\"]=data_frame[\"total Attack\"]\n",
        "df_model[\"totalPower\"]=data_frame[\"total power\"]\n",
        "df_model[\"totalMovement\"]=data_frame[\"total Movement\"]\n",
        "df_model[\"totalMentality\"]=data_frame[\"total Mentality\"]\n",
        "df_model[\"totalSkill\"]=data_frame[\"total Skill\"]\n",
        "df_model[\"Position_G\"]=data_frame[\"Position_G\"]\n",
        "df_model[\"Position_D\"]=data_frame[\"Position_D\"]\n",
        "df_model[\"Position_C\"]=data_frame[\"Position_C\"]\n",
        "df_model[\"Wage\"]=data_frame[\"Wage\"]\n",
        "df_model[\"Release Clause\"]=data_frame[\"Release Clause\"]\n",
        "df_model[\"log Value\"]=data_frame[\"log Value\"]\n",
        "df_model.to_csv(\"/content/drive/MyDrive/SoccerPrice/DfModel2.csv\",index=False)"
      ],
      "metadata": {
        "id": "FxYR1Q3S_4sn"
      },
      "execution_count": null,
      "outputs": []
    },
    {
      "cell_type": "code",
      "source": [
        "df_model=pd.read_csv(\"/content/drive/MyDrive/SoccerPrice/DfModel2.csv\")\n",
        "print(df_model.shape)\n",
        "df_model.head(3)"
      ],
      "metadata": {
        "id": "SApVGy10HxtO",
        "colab": {
          "base_uri": "https://localhost:8080/",
          "height": 324
        },
        "outputId": "a52d4beb-6362-4356-839b-0c7f05e39a99"
      },
      "execution_count": null,
      "outputs": [
        {
          "output_type": "stream",
          "name": "stdout",
          "text": [
            "(11954, 22)\n"
          ]
        },
        {
          "output_type": "execute_result",
          "data": {
            "text/plain": [
              "              Name          NewClub NewCountry  Age  Height  Weight  \\\n",
              "0    Karim Benzema   Real Madrid CF     France   33   185.0    81.0   \n",
              "1    Mohamed Salah        Liverpool      Egypt   29   175.0    71.0   \n",
              "2  Kevin De Bruyne  Manchester City    Belgium   30   181.0    70.0   \n",
              "\n",
              "   Reputation  Overall  Potential  Ball Control  ...  totalPower  \\\n",
              "0           4       91         91          89.0  ...         409   \n",
              "1           4       91         91          91.0  ...         399   \n",
              "2           4       91         91          89.0  ...         408   \n",
              "\n",
              "   totalMovement  totalMentality  totalSkill  Position_G  Position_D  \\\n",
              "0            401             367         409           0           0   \n",
              "1            457             382         412           0           0   \n",
              "2            400             406         439           0           0   \n",
              "\n",
              "   Position_C   Wage  Release Clause  log Value  \n",
              "0           0  450.0           172.2   4.430817  \n",
              "1           0  350.0           238.7   4.859812  \n",
              "2           1  350.0           232.2   4.832306  \n",
              "\n",
              "[3 rows x 22 columns]"
            ],
            "text/html": [
              "\n",
              "  <div id=\"df-d4a1229b-d5c5-4464-b015-5f68e61e7a99\">\n",
              "    <div class=\"colab-df-container\">\n",
              "      <div>\n",
              "<style scoped>\n",
              "    .dataframe tbody tr th:only-of-type {\n",
              "        vertical-align: middle;\n",
              "    }\n",
              "\n",
              "    .dataframe tbody tr th {\n",
              "        vertical-align: top;\n",
              "    }\n",
              "\n",
              "    .dataframe thead th {\n",
              "        text-align: right;\n",
              "    }\n",
              "</style>\n",
              "<table border=\"1\" class=\"dataframe\">\n",
              "  <thead>\n",
              "    <tr style=\"text-align: right;\">\n",
              "      <th></th>\n",
              "      <th>Name</th>\n",
              "      <th>NewClub</th>\n",
              "      <th>NewCountry</th>\n",
              "      <th>Age</th>\n",
              "      <th>Height</th>\n",
              "      <th>Weight</th>\n",
              "      <th>Reputation</th>\n",
              "      <th>Overall</th>\n",
              "      <th>Potential</th>\n",
              "      <th>Ball Control</th>\n",
              "      <th>...</th>\n",
              "      <th>totalPower</th>\n",
              "      <th>totalMovement</th>\n",
              "      <th>totalMentality</th>\n",
              "      <th>totalSkill</th>\n",
              "      <th>Position_G</th>\n",
              "      <th>Position_D</th>\n",
              "      <th>Position_C</th>\n",
              "      <th>Wage</th>\n",
              "      <th>Release Clause</th>\n",
              "      <th>log Value</th>\n",
              "    </tr>\n",
              "  </thead>\n",
              "  <tbody>\n",
              "    <tr>\n",
              "      <th>0</th>\n",
              "      <td>Karim Benzema</td>\n",
              "      <td>Real Madrid CF</td>\n",
              "      <td>France</td>\n",
              "      <td>33</td>\n",
              "      <td>185.0</td>\n",
              "      <td>81.0</td>\n",
              "      <td>4</td>\n",
              "      <td>91</td>\n",
              "      <td>91</td>\n",
              "      <td>89.0</td>\n",
              "      <td>...</td>\n",
              "      <td>409</td>\n",
              "      <td>401</td>\n",
              "      <td>367</td>\n",
              "      <td>409</td>\n",
              "      <td>0</td>\n",
              "      <td>0</td>\n",
              "      <td>0</td>\n",
              "      <td>450.0</td>\n",
              "      <td>172.2</td>\n",
              "      <td>4.430817</td>\n",
              "    </tr>\n",
              "    <tr>\n",
              "      <th>1</th>\n",
              "      <td>Mohamed Salah</td>\n",
              "      <td>Liverpool</td>\n",
              "      <td>Egypt</td>\n",
              "      <td>29</td>\n",
              "      <td>175.0</td>\n",
              "      <td>71.0</td>\n",
              "      <td>4</td>\n",
              "      <td>91</td>\n",
              "      <td>91</td>\n",
              "      <td>91.0</td>\n",
              "      <td>...</td>\n",
              "      <td>399</td>\n",
              "      <td>457</td>\n",
              "      <td>382</td>\n",
              "      <td>412</td>\n",
              "      <td>0</td>\n",
              "      <td>0</td>\n",
              "      <td>0</td>\n",
              "      <td>350.0</td>\n",
              "      <td>238.7</td>\n",
              "      <td>4.859812</td>\n",
              "    </tr>\n",
              "    <tr>\n",
              "      <th>2</th>\n",
              "      <td>Kevin De Bruyne</td>\n",
              "      <td>Manchester City</td>\n",
              "      <td>Belgium</td>\n",
              "      <td>30</td>\n",
              "      <td>181.0</td>\n",
              "      <td>70.0</td>\n",
              "      <td>4</td>\n",
              "      <td>91</td>\n",
              "      <td>91</td>\n",
              "      <td>89.0</td>\n",
              "      <td>...</td>\n",
              "      <td>408</td>\n",
              "      <td>400</td>\n",
              "      <td>406</td>\n",
              "      <td>439</td>\n",
              "      <td>0</td>\n",
              "      <td>0</td>\n",
              "      <td>1</td>\n",
              "      <td>350.0</td>\n",
              "      <td>232.2</td>\n",
              "      <td>4.832306</td>\n",
              "    </tr>\n",
              "  </tbody>\n",
              "</table>\n",
              "<p>3 rows × 22 columns</p>\n",
              "</div>\n",
              "      <button class=\"colab-df-convert\" onclick=\"convertToInteractive('df-d4a1229b-d5c5-4464-b015-5f68e61e7a99')\"\n",
              "              title=\"Convert this dataframe to an interactive table.\"\n",
              "              style=\"display:none;\">\n",
              "        \n",
              "  <svg xmlns=\"http://www.w3.org/2000/svg\" height=\"24px\"viewBox=\"0 0 24 24\"\n",
              "       width=\"24px\">\n",
              "    <path d=\"M0 0h24v24H0V0z\" fill=\"none\"/>\n",
              "    <path d=\"M18.56 5.44l.94 2.06.94-2.06 2.06-.94-2.06-.94-.94-2.06-.94 2.06-2.06.94zm-11 1L8.5 8.5l.94-2.06 2.06-.94-2.06-.94L8.5 2.5l-.94 2.06-2.06.94zm10 10l.94 2.06.94-2.06 2.06-.94-2.06-.94-.94-2.06-.94 2.06-2.06.94z\"/><path d=\"M17.41 7.96l-1.37-1.37c-.4-.4-.92-.59-1.43-.59-.52 0-1.04.2-1.43.59L10.3 9.45l-7.72 7.72c-.78.78-.78 2.05 0 2.83L4 21.41c.39.39.9.59 1.41.59.51 0 1.02-.2 1.41-.59l7.78-7.78 2.81-2.81c.8-.78.8-2.07 0-2.86zM5.41 20L4 18.59l7.72-7.72 1.47 1.35L5.41 20z\"/>\n",
              "  </svg>\n",
              "      </button>\n",
              "      \n",
              "  <style>\n",
              "    .colab-df-container {\n",
              "      display:flex;\n",
              "      flex-wrap:wrap;\n",
              "      gap: 12px;\n",
              "    }\n",
              "\n",
              "    .colab-df-convert {\n",
              "      background-color: #E8F0FE;\n",
              "      border: none;\n",
              "      border-radius: 50%;\n",
              "      cursor: pointer;\n",
              "      display: none;\n",
              "      fill: #1967D2;\n",
              "      height: 32px;\n",
              "      padding: 0 0 0 0;\n",
              "      width: 32px;\n",
              "    }\n",
              "\n",
              "    .colab-df-convert:hover {\n",
              "      background-color: #E2EBFA;\n",
              "      box-shadow: 0px 1px 2px rgba(60, 64, 67, 0.3), 0px 1px 3px 1px rgba(60, 64, 67, 0.15);\n",
              "      fill: #174EA6;\n",
              "    }\n",
              "\n",
              "    [theme=dark] .colab-df-convert {\n",
              "      background-color: #3B4455;\n",
              "      fill: #D2E3FC;\n",
              "    }\n",
              "\n",
              "    [theme=dark] .colab-df-convert:hover {\n",
              "      background-color: #434B5C;\n",
              "      box-shadow: 0px 1px 3px 1px rgba(0, 0, 0, 0.15);\n",
              "      filter: drop-shadow(0px 1px 2px rgba(0, 0, 0, 0.3));\n",
              "      fill: #FFFFFF;\n",
              "    }\n",
              "  </style>\n",
              "\n",
              "      <script>\n",
              "        const buttonEl =\n",
              "          document.querySelector('#df-d4a1229b-d5c5-4464-b015-5f68e61e7a99 button.colab-df-convert');\n",
              "        buttonEl.style.display =\n",
              "          google.colab.kernel.accessAllowed ? 'block' : 'none';\n",
              "\n",
              "        async function convertToInteractive(key) {\n",
              "          const element = document.querySelector('#df-d4a1229b-d5c5-4464-b015-5f68e61e7a99');\n",
              "          const dataTable =\n",
              "            await google.colab.kernel.invokeFunction('convertToInteractive',\n",
              "                                                     [key], {});\n",
              "          if (!dataTable) return;\n",
              "\n",
              "          const docLinkHtml = 'Like what you see? Visit the ' +\n",
              "            '<a target=\"_blank\" href=https://colab.research.google.com/notebooks/data_table.ipynb>data table notebook</a>'\n",
              "            + ' to learn more about interactive tables.';\n",
              "          element.innerHTML = '';\n",
              "          dataTable['output_type'] = 'display_data';\n",
              "          await google.colab.output.renderOutput(dataTable, element);\n",
              "          const docLink = document.createElement('div');\n",
              "          docLink.innerHTML = docLinkHtml;\n",
              "          element.appendChild(docLink);\n",
              "        }\n",
              "      </script>\n",
              "    </div>\n",
              "  </div>\n",
              "  "
            ]
          },
          "metadata": {},
          "execution_count": 29
        }
      ]
    },
    {
      "cell_type": "code",
      "source": [
        "def quantalize(quantiles, x):\n",
        "    if x ==0:\n",
        "        return 0\n",
        "    for i in range(len(quantiles)):\n",
        "        if x <= quantiles[i]:\n",
        "            return i+1\n",
        "    return 10"
      ],
      "metadata": {
        "id": "r04V7rl7KkCQ"
      },
      "execution_count": null,
      "outputs": []
    },
    {
      "cell_type": "code",
      "source": [
        "def make_map(dataFrame:pd.DataFrame,columnName,byName):\n",
        "  column_quantiles=df_model.groupby(columnName).mean()[[byName]].quantile(np.arange(0.1,1,0.1)).to_numpy()\n",
        "  map_df=df_model.groupby(columnName).mean()[[byName]].sort_values(byName,ascending=False)\n",
        "  map_df[\"Percentile\"]=map_df.apply(lambda x: quantalize(column_quantiles,x[byName]),axis=1)\n",
        "  map_df[\"Name\"]=map_df.index.values\n",
        "  map_df.index=np.arange(0,map_df.shape[0])\n",
        "  map=dict(zip(map_df[\"Name\"].values.tolist(),map_df[\"Percentile\"].values.tolist()))\n",
        "  return map"
      ],
      "metadata": {
        "id": "nq66VluXKtiH"
      },
      "execution_count": null,
      "outputs": []
    },
    {
      "cell_type": "code",
      "source": [
        "df_model=df_model.drop([\"NewCountry\"],axis=1)\n",
        "df_model.insert(len(df_model.columns)-1, 'Wage', df_model.pop('Wage'))\n",
        "df_model.insert(len(df_model.columns)-1, 'Release Clause', df_model.pop('Release Clause'))\n",
        "df_model.insert(len(df_model.columns)-1, 'log Value', df_model.pop('log Value'))\n",
        "# df_model.head(3)"
      ],
      "metadata": {
        "id": "KOEY2S6yKvmz"
      },
      "execution_count": null,
      "outputs": []
    },
    {
      "cell_type": "code",
      "source": [
        "cor_mat=df_model.corr()\n",
        "print(cor_mat[[\"log Value\"]].shape)\n",
        "cor_mat[[\"log Value\"]].sort_values(by=\"log Value\",ascending=False).head(10)"
      ],
      "metadata": {
        "id": "GwajVcMgLFGj",
        "colab": {
          "base_uri": "https://localhost:8080/",
          "height": 380
        },
        "outputId": "156940f7-95b7-4789-c6f0-be89bc8d9a03"
      },
      "execution_count": null,
      "outputs": [
        {
          "output_type": "stream",
          "name": "stdout",
          "text": [
            "(19, 1)\n"
          ]
        },
        {
          "output_type": "execute_result",
          "data": {
            "text/plain": [
              "                log Value\n",
              "log Value        1.000000\n",
              "Potential        0.757349\n",
              "Overall          0.739927\n",
              "Wage             0.413951\n",
              "Ball Control     0.378456\n",
              "totalPower       0.364350\n",
              "totalSkill       0.361604\n",
              "totalMentality   0.344889\n",
              "totalAttack      0.344648\n",
              "totalMovement    0.336183"
            ],
            "text/html": [
              "\n",
              "  <div id=\"df-6558e0f4-685d-4b35-93ca-ae3d5a8f3808\">\n",
              "    <div class=\"colab-df-container\">\n",
              "      <div>\n",
              "<style scoped>\n",
              "    .dataframe tbody tr th:only-of-type {\n",
              "        vertical-align: middle;\n",
              "    }\n",
              "\n",
              "    .dataframe tbody tr th {\n",
              "        vertical-align: top;\n",
              "    }\n",
              "\n",
              "    .dataframe thead th {\n",
              "        text-align: right;\n",
              "    }\n",
              "</style>\n",
              "<table border=\"1\" class=\"dataframe\">\n",
              "  <thead>\n",
              "    <tr style=\"text-align: right;\">\n",
              "      <th></th>\n",
              "      <th>log Value</th>\n",
              "    </tr>\n",
              "  </thead>\n",
              "  <tbody>\n",
              "    <tr>\n",
              "      <th>log Value</th>\n",
              "      <td>1.000000</td>\n",
              "    </tr>\n",
              "    <tr>\n",
              "      <th>Potential</th>\n",
              "      <td>0.757349</td>\n",
              "    </tr>\n",
              "    <tr>\n",
              "      <th>Overall</th>\n",
              "      <td>0.739927</td>\n",
              "    </tr>\n",
              "    <tr>\n",
              "      <th>Wage</th>\n",
              "      <td>0.413951</td>\n",
              "    </tr>\n",
              "    <tr>\n",
              "      <th>Ball Control</th>\n",
              "      <td>0.378456</td>\n",
              "    </tr>\n",
              "    <tr>\n",
              "      <th>totalPower</th>\n",
              "      <td>0.364350</td>\n",
              "    </tr>\n",
              "    <tr>\n",
              "      <th>totalSkill</th>\n",
              "      <td>0.361604</td>\n",
              "    </tr>\n",
              "    <tr>\n",
              "      <th>totalMentality</th>\n",
              "      <td>0.344889</td>\n",
              "    </tr>\n",
              "    <tr>\n",
              "      <th>totalAttack</th>\n",
              "      <td>0.344648</td>\n",
              "    </tr>\n",
              "    <tr>\n",
              "      <th>totalMovement</th>\n",
              "      <td>0.336183</td>\n",
              "    </tr>\n",
              "  </tbody>\n",
              "</table>\n",
              "</div>\n",
              "      <button class=\"colab-df-convert\" onclick=\"convertToInteractive('df-6558e0f4-685d-4b35-93ca-ae3d5a8f3808')\"\n",
              "              title=\"Convert this dataframe to an interactive table.\"\n",
              "              style=\"display:none;\">\n",
              "        \n",
              "  <svg xmlns=\"http://www.w3.org/2000/svg\" height=\"24px\"viewBox=\"0 0 24 24\"\n",
              "       width=\"24px\">\n",
              "    <path d=\"M0 0h24v24H0V0z\" fill=\"none\"/>\n",
              "    <path d=\"M18.56 5.44l.94 2.06.94-2.06 2.06-.94-2.06-.94-.94-2.06-.94 2.06-2.06.94zm-11 1L8.5 8.5l.94-2.06 2.06-.94-2.06-.94L8.5 2.5l-.94 2.06-2.06.94zm10 10l.94 2.06.94-2.06 2.06-.94-2.06-.94-.94-2.06-.94 2.06-2.06.94z\"/><path d=\"M17.41 7.96l-1.37-1.37c-.4-.4-.92-.59-1.43-.59-.52 0-1.04.2-1.43.59L10.3 9.45l-7.72 7.72c-.78.78-.78 2.05 0 2.83L4 21.41c.39.39.9.59 1.41.59.51 0 1.02-.2 1.41-.59l7.78-7.78 2.81-2.81c.8-.78.8-2.07 0-2.86zM5.41 20L4 18.59l7.72-7.72 1.47 1.35L5.41 20z\"/>\n",
              "  </svg>\n",
              "      </button>\n",
              "      \n",
              "  <style>\n",
              "    .colab-df-container {\n",
              "      display:flex;\n",
              "      flex-wrap:wrap;\n",
              "      gap: 12px;\n",
              "    }\n",
              "\n",
              "    .colab-df-convert {\n",
              "      background-color: #E8F0FE;\n",
              "      border: none;\n",
              "      border-radius: 50%;\n",
              "      cursor: pointer;\n",
              "      display: none;\n",
              "      fill: #1967D2;\n",
              "      height: 32px;\n",
              "      padding: 0 0 0 0;\n",
              "      width: 32px;\n",
              "    }\n",
              "\n",
              "    .colab-df-convert:hover {\n",
              "      background-color: #E2EBFA;\n",
              "      box-shadow: 0px 1px 2px rgba(60, 64, 67, 0.3), 0px 1px 3px 1px rgba(60, 64, 67, 0.15);\n",
              "      fill: #174EA6;\n",
              "    }\n",
              "\n",
              "    [theme=dark] .colab-df-convert {\n",
              "      background-color: #3B4455;\n",
              "      fill: #D2E3FC;\n",
              "    }\n",
              "\n",
              "    [theme=dark] .colab-df-convert:hover {\n",
              "      background-color: #434B5C;\n",
              "      box-shadow: 0px 1px 3px 1px rgba(0, 0, 0, 0.15);\n",
              "      filter: drop-shadow(0px 1px 2px rgba(0, 0, 0, 0.3));\n",
              "      fill: #FFFFFF;\n",
              "    }\n",
              "  </style>\n",
              "\n",
              "      <script>\n",
              "        const buttonEl =\n",
              "          document.querySelector('#df-6558e0f4-685d-4b35-93ca-ae3d5a8f3808 button.colab-df-convert');\n",
              "        buttonEl.style.display =\n",
              "          google.colab.kernel.accessAllowed ? 'block' : 'none';\n",
              "\n",
              "        async function convertToInteractive(key) {\n",
              "          const element = document.querySelector('#df-6558e0f4-685d-4b35-93ca-ae3d5a8f3808');\n",
              "          const dataTable =\n",
              "            await google.colab.kernel.invokeFunction('convertToInteractive',\n",
              "                                                     [key], {});\n",
              "          if (!dataTable) return;\n",
              "\n",
              "          const docLinkHtml = 'Like what you see? Visit the ' +\n",
              "            '<a target=\"_blank\" href=https://colab.research.google.com/notebooks/data_table.ipynb>data table notebook</a>'\n",
              "            + ' to learn more about interactive tables.';\n",
              "          element.innerHTML = '';\n",
              "          dataTable['output_type'] = 'display_data';\n",
              "          await google.colab.output.renderOutput(dataTable, element);\n",
              "          const docLink = document.createElement('div');\n",
              "          docLink.innerHTML = docLinkHtml;\n",
              "          element.appendChild(docLink);\n",
              "        }\n",
              "      </script>\n",
              "    </div>\n",
              "  </div>\n",
              "  "
            ]
          },
          "metadata": {},
          "execution_count": 33
        }
      ]
    },
    {
      "cell_type": "code",
      "source": [
        "# Remove unwanted columns\n",
        "df_numeric=df_model.drop([\"Release Clause\",\"Weight\"],axis=1)\n",
        "# df_numeric.head(3)"
      ],
      "metadata": {
        "id": "ZFRQISb6Ljd6"
      },
      "execution_count": null,
      "outputs": []
    },
    {
      "cell_type": "markdown",
      "source": [
        "### **Models**"
      ],
      "metadata": {
        "id": "vldbKSe5NouQ"
      }
    },
    {
      "cell_type": "code",
      "source": [
        "from sklearn.model_selection import train_test_split\n",
        "from sklearn.model_selection import GridSearchCV\n",
        "from sklearn.metrics import mean_squared_error\n",
        "from sklearn.metrics import mean_absolute_error\n",
        "\n",
        "# Split data\n",
        "train_df, test_df = train_test_split(df_numeric, test_size=0.25, random_state=42,shuffle=True)\n",
        "print(train_df.shape)\n",
        "print(test_df.shape)"
      ],
      "metadata": {
        "id": "ILtJU5fBNlqH",
        "colab": {
          "base_uri": "https://localhost:8080/"
        },
        "outputId": "e0c5b0b1-89fa-4970-a904-93c4a8bbcfb7"
      },
      "execution_count": null,
      "outputs": [
        {
          "output_type": "stream",
          "name": "stdout",
          "text": [
            "(8965, 19)\n",
            "(2989, 19)\n"
          ]
        }
      ]
    },
    {
      "cell_type": "code",
      "source": [
        "# Binning club column by percentiles because it has a lot of different values \n",
        "club_map=make_map(train_df,\"NewClub\",\"log Value\")\n",
        "train_df.insert(4,\"Club_percentiles\",train_df.apply(lambda x:club_map.get(x[\"NewClub\"]),axis=1))\n",
        "test_copy=test_df.copy()\n",
        "test_copy[\"Club_percentiles\"]=test_copy.apply(lambda x:club_map.get(x[\"NewClub\"]),axis=1)\n",
        "test_df.insert(4,\"Club_percentiles\",test_copy[\"Club_percentiles\"])\n",
        "\n",
        "train_df=train_df.drop([\"NewClub\"],axis=1)\n",
        "test_df=test_df.drop([\"NewClub\"],axis=1)"
      ],
      "metadata": {
        "id": "6oz2Q6_HN9dU"
      },
      "execution_count": null,
      "outputs": []
    },
    {
      "cell_type": "code",
      "source": [
        "from sklearn.preprocessing import StandardScaler\n",
        "\n",
        "# Normalize data\n",
        "scaler = StandardScaler()\n",
        "scaler.fit(train_df.iloc[:,1:-1])\n",
        "train_df.iloc[:,1:-1]=scaler.transform(train_df.iloc[:,1:-1])\n",
        "test_df.iloc[:,1:-1]=scaler.transform(test_df.iloc[:,1:-1])\n",
        "X_train=train_df.iloc[:,1:-1]\n",
        "y_train=train_df.iloc[:,-1]\n",
        "X_test=test_df.iloc[:,1:-1]\n",
        "y_test=test_df.iloc[:,-1]"
      ],
      "metadata": {
        "id": "QjYzmGfFQrFr"
      },
      "execution_count": null,
      "outputs": []
    },
    {
      "cell_type": "code",
      "source": [
        "best_lr_model=None\n",
        "best_lasso_model=None\n",
        "best_ridge_model=None\n",
        "best_random_forest_model=None"
      ],
      "metadata": {
        "id": "IDdVM5sSQtaq"
      },
      "execution_count": null,
      "outputs": []
    },
    {
      "cell_type": "code",
      "source": [
        "plt.figure(1,figsize=(15,7))\n",
        "sns.heatmap(train_df.corr(),cmap=\"seismic\",annot=True,vmin=-1,vmax=1)"
      ],
      "metadata": {
        "id": "xtsCZm27Q1Dr",
        "colab": {
          "base_uri": "https://localhost:8080/",
          "height": 534
        },
        "outputId": "e88e97f0-c99f-41ab-efba-1d7ef73485c4"
      },
      "execution_count": null,
      "outputs": [
        {
          "output_type": "execute_result",
          "data": {
            "text/plain": [
              "<matplotlib.axes._subplots.AxesSubplot at 0x7feb736b6b10>"
            ]
          },
          "metadata": {},
          "execution_count": 39
        },
        {
          "output_type": "display_data",
          "data": {
            "text/plain": [
              "<Figure size 1080x504 with 2 Axes>"
            ],
            "image/png": "[encoded data removed]"
          },
          "metadata": {}
        }
      ]
    },
    {
      "cell_type": "code",
      "source": [],
      "metadata": {
        "id": "7L8SC-Wn9bR2"
      },
      "execution_count": null,
      "outputs": []
    },
    {
      "cell_type": "markdown",
      "source": [
        "#### ***Linear Regression***"
      ],
      "metadata": {
        "id": "AszPVovSQ8Ru"
      }
    },
    {
      "cell_type": "code",
      "source": [
        "from sklearn import linear_model\n",
        "\n",
        "linear_regression_model = linear_model.LinearRegression().fit(X_train, y_train)\n",
        "from sklearn import metrics\n",
        "from sklearn.model_selection import KFold\n",
        "import sklearn.metrics\n",
        "kf = KFold(n_splits=5,shuffle=True,random_state=0)\n",
        "acc=[]\n",
        "mae=[]\n",
        "rmse=[]\n",
        "value_mae=[]\n",
        "for train_index, test_index in kf.split(X_train):\n",
        "  X_train_part, X_val = X_train.iloc[train_index], X_train.iloc[test_index]\n",
        "  y_train_part, y_val = y_train.iloc[train_index], y_train.iloc[test_index]\n",
        "  lm_reg=linear_model.LinearRegression()\n",
        "  lm_reg.fit(X_train_part,y_train_part)\n",
        "  predicted_y=lm_reg.predict(X_val)\n",
        "  predicted_value=np.exp(predicted_y)\n",
        "  actual_value=np.exp(y_val)\n",
        "  acc.append(lm_reg.score(X_val,y_val))\n",
        "  mae.append(metrics.mean_absolute_error(predicted_y,y_val))\n",
        "  rmse.append(np.sqrt(metrics.mean_squared_error(predicted_y,y_val)))\n",
        "  value_mae.append(np.sqrt(metrics.mean_squared_error(predicted_value,actual_value)))\n",
        "  \n",
        "  \n",
        "\n",
        " \n",
        "\n",
        "acc=np.array(acc)\n",
        "mae=np.array(mae)\n",
        "rmse=np.array(rmse)\n",
        "value_mae=np.array(value_mae)\n",
        "validation_mae=np.mean(mae)\n",
        "validation_acc=np.mean(acc)\n",
        "validation_rmse=np.mean(rmse)\n",
        "validation_value_mae=np.mean(value_mae)\n",
        "lm_reg=linear_model.LinearRegression() \n",
        "lm_reg.fit(X_train,y_train)\n",
        "predicted_y=lm_reg.predict(X_test)\n",
        "predicted_value=np.exp(predicted_y)\n",
        "actual_value=np.exp(y_test)\n",
        "test_acc=lm_reg.score(X_test,y_test)\n",
        "test_mae=metrics.mean_absolute_error(predicted_y,y_test)\n",
        "test_rmse=np.sqrt(metrics.mean_squared_error(predicted_y,y_test))\n",
        "test_value_mae=np.sqrt(metrics.mean_squared_error(predicted_value,actual_value))\n",
        "# sns.scatterplot(np.arange(actual_value.shape[0]),(actual_value-predicted_value))\n",
        "print(\".......... R2 ..........\")\n",
        "print(validation_acc)\n",
        "print(test_acc)\n",
        "print(\".......... log Value MAE ..........\")\n",
        "print(validation_mae)\n",
        "print(test_mae)\n",
        "print(\".......... RMSE ..........\")\n",
        "print(validation_rmse)\n",
        "print(test_rmse)\n",
        "print(\".......... Value MAE ..........\")\n",
        "print(validation_value_mae)\n",
        "print(test_value_mae)"
      ],
      "metadata": {
        "id": "Hijm74grQ2Yn",
        "colab": {
          "base_uri": "https://localhost:8080/"
        },
        "outputId": "6ed4e4cc-4d72-42ec-fe69-ab01e176086e"
      },
      "execution_count": null,
      "outputs": [
        {
          "output_type": "stream",
          "name": "stdout",
          "text": [
            ".......... R2 ..........\n",
            "0.7332911413880094\n",
            "0.7341905011310698\n",
            ".......... log Value MAE ..........\n",
            "1.8176236699130413\n",
            "1.8240039506455048\n",
            ".......... RMSE ..........\n",
            "2.1269197077524202\n",
            "2.1395888361701023\n",
            ".......... Value MAE ..........\n",
            "351.86095264809757\n",
            "593.1443751472785\n"
          ]
        }
      ]
    },
    {
      "cell_type": "code",
      "source": [
        "import statsmodels.api as sm \n",
        "X_train_sm=sm.add_constant(X_train)\n",
        "ls=sm.OLS(y_train,X_train_sm).fit()\n",
        "print(ls.summary())"
      ],
      "metadata": {
        "colab": {
          "base_uri": "https://localhost:8080/"
        },
        "id": "fHYpKbsWx7Z4",
        "outputId": "e792959b-e4cf-4494-c975-fd5ca5ac777a"
      },
      "execution_count": null,
      "outputs": [
        {
          "output_type": "stream",
          "name": "stdout",
          "text": [
            "                            OLS Regression Results                            \n",
            "==============================================================================\n",
            "Dep. Variable:              log Value   R-squared:                       0.735\n",
            "Model:                            OLS   Adj. R-squared:                  0.735\n",
            "Method:                 Least Squares   F-statistic:                     1461.\n",
            "Date:                Sat, 27 Aug 2022   Prob (F-statistic):               0.00\n",
            "Time:                        12:52:42   Log-Likelihood:                -19457.\n",
            "No. Observations:                8965   AIC:                         3.895e+04\n",
            "Df Residuals:                    8947   BIC:                         3.908e+04\n",
            "Df Model:                          17                                         \n",
            "Covariance Type:            nonrobust                                         \n",
            "====================================================================================\n",
            "                       coef    std err          t      P>|t|      [0.025      0.975]\n",
            "------------------------------------------------------------------------------------\n",
            "const               -1.6679      0.022    -74.414      0.000      -1.712      -1.624\n",
            "Age                 -1.5055      0.045    -33.766      0.000      -1.593      -1.418\n",
            "Height              -0.0182      0.035     -0.520      0.603      -0.087       0.051\n",
            "Club_percentiles     0.3202      0.032     10.055      0.000       0.258       0.383\n",
            "Reputation          -0.1606      0.031     -5.180      0.000      -0.221      -0.100\n",
            "Overall              3.7544      0.069     54.498      0.000       3.619       3.889\n",
            "Potential            0.1075      0.059      1.821      0.069      -0.008       0.223\n",
            "Ball Control         0.1864      0.109      1.707      0.088      -0.028       0.400\n",
            "totalDefence        -0.0928      0.059     -1.576      0.115      -0.208       0.023\n",
            "totalAttack         -0.1103      0.102     -1.082      0.279      -0.310       0.090\n",
            "totalPower           0.1123      0.049      2.305      0.021       0.017       0.208\n",
            "totalMovement       -0.0548      0.046     -1.180      0.238      -0.146       0.036\n",
            "totalMentality      -0.1745      0.083     -2.099      0.036      -0.337      -0.012\n",
            "totalSkill           0.0710      0.097      0.734      0.463      -0.119       0.261\n",
            "Position_G          -0.4030      0.080     -5.052      0.000      -0.559      -0.247\n",
            "Position_D          -0.1063      0.058     -1.846      0.065      -0.219       0.007\n",
            "Position_C          -0.0445      0.046     -0.975      0.330      -0.134       0.045\n",
            "Wage                -0.6543      0.035    -18.938      0.000      -0.722      -0.587\n",
            "==============================================================================\n",
            "Omnibus:                     1688.053   Durbin-Watson:                   2.005\n",
            "Prob(Omnibus):                  0.000   Jarque-Bera (JB):              398.209\n",
            "Skew:                          -0.194   Prob(JB):                     3.39e-87\n",
            "Kurtosis:                       2.043   Cond. No.                         16.3\n",
            "==============================================================================\n",
            "\n",
            "Notes:\n",
            "[1] Standard Errors assume that the covariance matrix of the errors is correctly specified.\n"
          ]
        }
      ]
    },
    {
      "cell_type": "markdown",
      "source": [
        "#### ***Lasso Regression***"
      ],
      "metadata": {
        "id": "PGE03nNsQ-2b"
      }
    },
    {
      "cell_type": "code",
      "source": [
        "from sklearn.ensemble import RandomForestRegressor\n",
        "import time\n",
        "current_time=time.time()\n",
        "parameters = {'alpha':np.arange(0,5,0.01)}\n",
        "lasso =linear_model.Lasso()\n",
        "lasso_GS=GridSearchCV(lasso, parameters,scoring=\"neg_mean_absolute_error\",cv=4,return_train_score=True)\n",
        "lasso_GS.fit(X_train,y_train)\n",
        "best_lasso_model=lasso_GS.best_estimator_\n",
        "y_pred=lasso_GS.best_estimator_.predict(X_test)\n",
        "y_pred_value=np.exp(y_pred)\n",
        "y_test_value=np.exp(y_test)\n",
        "sns.scatterplot(np.arange(y_test_value.shape[0]),y_test_value-y_pred_value)\n",
        "plt.xlabel(\"Rows\")\n",
        "plt.ylabel(\"Value Diff.\")\n",
        "print(time.time()-current_time)"
      ],
      "metadata": {
        "id": "UVp5G0OlRCfN",
        "colab": {
          "base_uri": "https://localhost:8080/",
          "height": 302
        },
        "outputId": "a7d4cb31-e080-41cb-cade-a0af0c31d2bd"
      },
      "execution_count": null,
      "outputs": [
        {
          "output_type": "stream",
          "name": "stdout",
          "text": [
            "27.05036997795105\n"
          ]
        },
        {
          "output_type": "display_data",
          "data": {
            "text/plain": [
              "<Figure size 432x288 with 1 Axes>"
            ],
            "image/png": "[encoded data removed]"
          },
          "metadata": {}
        }
      ]
    },
    {
      "cell_type": "code",
      "source": [
        "lasso_GS.best_params_"
      ],
      "metadata": {
        "colab": {
          "base_uri": "https://localhost:8080/"
        },
        "id": "SAi8z9Fjz0nl",
        "outputId": "db669789-134c-4626-aaef-a9ce2e4db32e"
      },
      "execution_count": null,
      "outputs": [
        {
          "output_type": "execute_result",
          "data": {
            "text/plain": [
              "{'alpha': 0.0}"
            ]
          },
          "metadata": {},
          "execution_count": 43
        }
      ]
    },
    {
      "cell_type": "code",
      "source": [
        "from sklearn import metrics\n",
        "from sklearn.model_selection import KFold\n",
        "import sklearn.metrics\n",
        "kf = KFold(n_splits=5,shuffle=True,random_state=0)\n",
        "acc=[]\n",
        "mae=[]\n",
        "rmse=[]\n",
        "value_mae=[]\n",
        "for train_index, test_index in kf.split(X_train):\n",
        "  X_train_part, X_val = X_train.iloc[train_index], X_train.iloc[test_index]\n",
        "  y_train_part, y_val = y_train.iloc[train_index], y_train.iloc[test_index]\n",
        "  lasso =linear_model.Lasso(alpha=0)\n",
        "  lasso.fit(X_train_part,y_train_part)\n",
        "  predicted_y=lasso.predict(X_val)\n",
        "  predicted_value=np.exp(predicted_y)\n",
        "  actual_value=np.exp(y_val)\n",
        "  acc.append(lasso.score(X_val,y_val))\n",
        "  mae.append(metrics.mean_absolute_error(predicted_y,y_val))\n",
        "  rmse.append(np.sqrt(metrics.mean_squared_error(predicted_y,y_val)))\n",
        "  value_mae.append(np.sqrt(metrics.mean_squared_error(predicted_value,actual_value)))\n",
        "  \n",
        "  \n",
        "\n",
        " \n",
        "\n",
        "acc=np.array(acc)\n",
        "mae=np.array(mae)\n",
        "rmse=np.array(rmse)\n",
        "value_mae=np.array(value_mae)\n",
        "validation_mae=np.mean(mae)\n",
        "validation_acc=np.mean(acc)\n",
        "validation_rmse=np.mean(rmse)\n",
        "validation_value_mae=np.mean(value_mae)\n",
        "lasso =linear_model.Lasso(alpha=0)\n",
        "lasso.fit(X_train_part,y_train_part)\n",
        "predicted_y=lasso.predict(X_test)\n",
        "predicted_value=np.exp(predicted_y)\n",
        "actual_value=np.exp(y_test)\n",
        "test_acc=lasso.score(X_test,y_test)\n",
        "test_mae=metrics.mean_absolute_error(predicted_y,y_test)\n",
        "test_rmse=np.sqrt(metrics.mean_squared_error(predicted_y,y_test))\n",
        "test_value_mae=np.sqrt(metrics.mean_squared_error(predicted_value,actual_value))\n",
        "print(\".......... R2 ..........\")\n",
        "print(validation_acc)\n",
        "print(test_acc)\n",
        "print(\".......... log Value MAE ..........\")\n",
        "print(validation_mae)\n",
        "print(test_mae)\n",
        "print(\".......... RMSE ..........\")\n",
        "print(validation_rmse)\n",
        "print(test_rmse)\n",
        "print(\".......... Value MAE ..........\")\n",
        "print(validation_value_mae)\n",
        "print(test_value_mae)\n"
      ],
      "metadata": {
        "colab": {
          "base_uri": "https://localhost:8080/"
        },
        "id": "dLXJTEL1zwx5",
        "outputId": "e9b04cad-3dda-4aeb-a419-e8648385db07"
      },
      "execution_count": null,
      "outputs": [
        {
          "output_type": "stream",
          "name": "stdout",
          "text": [
            ".......... R2 ..........\n",
            "0.7332911413880094\n",
            "0.7341589445913841\n",
            ".......... log Value MAE ..........\n",
            "1.8176236699130413\n",
            "1.8259829686698332\n",
            ".......... RMSE ..........\n",
            "2.1269197077524202\n",
            "2.139715836929131\n",
            ".......... Value MAE ..........\n",
            "351.86095264809535\n",
            "545.4883993518224\n"
          ]
        }
      ]
    },
    {
      "cell_type": "markdown",
      "source": [
        "##### ***Learning Curve***"
      ],
      "metadata": {
        "id": "nMWwBbCt54xF"
      }
    },
    {
      "cell_type": "code",
      "source": [
        "from sklearn.model_selection import learning_curve\n",
        "model2=linear_model.Lasso(alpha=lasso_GS.best_params_.get(\"alpha\"))\n",
        " \n",
        "\n",
        "train_sizes,train_scores,test_scores = learning_curve(model2, X_train, y_train, cv=10, \n",
        "                                                        scoring='r2', n_jobs=-1,\n",
        "                                                        train_sizes=np.linspace(0.01, 1.0, 50))\n",
        "\n",
        "train_loss=1-train_scores\n",
        "test_loss=1-test_scores\n",
        "train_mean = np.mean(train_loss, axis=1)\n",
        "train_std = np.std(train_loss, axis=1)\n",
        "\n",
        "test_mean = np.mean(test_loss, axis=1)\n",
        "test_std = np.std(test_loss, axis=1)"
      ],
      "metadata": {
        "id": "k-M--NHR58fs"
      },
      "execution_count": null,
      "outputs": []
    },
    {
      "cell_type": "code",
      "source": [
        "plt.subplots(1, figsize=(10,10))\n",
        "plt.plot(train_sizes, train_mean, '--', color=\"r\",  label=\"Training score\")\n",
        "plt.plot(train_sizes, test_mean, color=\"b\", label=\"Cross-validation score\")\n",
        "\n",
        "plt.fill_between(train_sizes, (train_mean - train_std), (train_mean + train_std), color=\"#DDDDDD\")\n",
        "plt.fill_between(train_sizes, (test_mean - test_std), (test_mean + test_std), color=\"#DDDDDD\")\n",
        "\n",
        "plt.title(\"Learning Curve\")\n",
        "plt.xlabel(\"Training Set Size\"), plt.ylabel(\"Loss\"), plt.legend(loc=\"best\")\n",
        "plt.ylim(0,1)\n",
        "plt.tight_layout()\n",
        "plt.show()"
      ],
      "metadata": {
        "colab": {
          "base_uri": "https://localhost:8080/",
          "height": 729
        },
        "id": "R6x3Y64O5-_3",
        "outputId": "0db54b54-f5f8-421b-d046-2ea63e64cd84"
      },
      "execution_count": null,
      "outputs": [
        {
          "output_type": "display_data",
          "data": {
            "text/plain": [
              "<Figure size 720x720 with 1 Axes>"
            ],
            "image/png": "[encoded data removed]"
          },
          "metadata": {}
        }
      ]
    },
    {
      "cell_type": "markdown",
      "source": [
        "#### ***Ridge regression***"
      ],
      "metadata": {
        "id": "0jvllaTt2fH7"
      }
    },
    {
      "cell_type": "code",
      "source": [
        "from sklearn.ensemble import RandomForestRegressor\n",
        "import time\n",
        "current_time=time.time()\n",
        "parameters = {'alpha':np.arange(0,100,1)}\n",
        "ridge =linear_model.Ridge()\n",
        "ridge_GS=GridSearchCV(ridge, parameters,scoring=\"neg_mean_absolute_error\",cv=4,return_train_score=True)\n",
        "ridge_GS.fit(X_train,y_train)\n",
        "best_ridge_model=ridge_GS.best_estimator_\n",
        "y_pred=ridge_GS.best_estimator_.predict(X_test)\n",
        "y_pred_value=np.exp(y_pred)\n",
        "y_test_value=np.exp(y_test)\n",
        "sns.scatterplot(np.arange(y_test_value.shape[0]),y_test_value-y_pred_value)\n",
        "plt.xlabel(\"Rows\")\n",
        "plt.ylabel(\"Value Diff.\")\n",
        "print(time.time()-current_time)"
      ],
      "metadata": {
        "colab": {
          "base_uri": "https://localhost:8080/",
          "height": 302
        },
        "id": "UF62SeBc2ldK",
        "outputId": "861e3691-8f98-4e00-e47e-99f3315f1b30"
      },
      "execution_count": null,
      "outputs": [
        {
          "output_type": "stream",
          "name": "stdout",
          "text": [
            "5.088054180145264\n"
          ]
        },
        {
          "output_type": "display_data",
          "data": {
            "text/plain": [
              "<Figure size 432x288 with 1 Axes>"
            ],
            "image/png": "[encoded data removed]"
          },
          "metadata": {}
        }
      ]
    },
    {
      "cell_type": "code",
      "source": [
        "ridge_GS.best_params_"
      ],
      "metadata": {
        "colab": {
          "base_uri": "https://localhost:8080/"
        },
        "id": "qkCuhfqf3TX-",
        "outputId": "855fc380-e686-4bc7-80bb-7902f139afdd"
      },
      "execution_count": null,
      "outputs": [
        {
          "output_type": "execute_result",
          "data": {
            "text/plain": [
              "{'alpha': 31}"
            ]
          },
          "metadata": {},
          "execution_count": 48
        }
      ]
    },
    {
      "cell_type": "code",
      "source": [
        "from sklearn import metrics\n",
        "from sklearn.model_selection import KFold\n",
        "import sklearn.metrics\n",
        "kf = KFold(n_splits=5,shuffle=True,random_state=0)\n",
        "acc=[]\n",
        "mae=[]\n",
        "rmse=[]\n",
        "value_mae=[]\n",
        "for train_index, test_index in kf.split(X_train):\n",
        "  X_train_part, X_val = X_train.iloc[train_index], X_train.iloc[test_index]\n",
        "  y_train_part, y_val = y_train.iloc[train_index], y_train.iloc[test_index]\n",
        "  ridge =linear_model.Ridge(alpha=ridge_GS.best_params_.get(\"alpha\"))\n",
        "  ridge.fit(X_train_part,y_train_part)\n",
        "  predicted_y=ridge.predict(X_val)\n",
        "  predicted_value=np.exp(predicted_y)\n",
        "  actual_value=np.exp(y_val)\n",
        "  acc.append(ridge.score(X_val,y_val))\n",
        "  mae.append(metrics.mean_absolute_error(predicted_y,y_val))\n",
        "  rmse.append(np.sqrt(metrics.mean_squared_error(predicted_y,y_val)))\n",
        "  value_mae.append(np.sqrt(metrics.mean_squared_error(predicted_value,actual_value)))\n",
        "  \n",
        "  \n",
        "\n",
        " \n",
        "\n",
        "acc=np.array(acc)\n",
        "mae=np.array(mae)\n",
        "rmse=np.array(rmse)\n",
        "value_mae=np.array(value_mae)\n",
        "validation_mae=np.mean(mae)\n",
        "validation_acc=np.mean(acc)\n",
        "validation_rmse=np.mean(rmse)\n",
        "validation_value_mae=np.mean(value_mae)\n",
        "ridge =linear_model.Ridge(alpha=ridge_GS.best_params_.get(\"alpha\"))\n",
        "ridge.fit(X_train_part,y_train_part)\n",
        "predicted_y=ridge.predict(X_test)\n",
        "predicted_value=np.exp(predicted_y)\n",
        "actual_value=np.exp(y_test)\n",
        "test_acc=ridge.score(X_test,y_test)\n",
        "test_mae=metrics.mean_absolute_error(predicted_y,y_test)\n",
        "test_rmse=np.sqrt(metrics.mean_squared_error(predicted_y,y_test))\n",
        "test_value_mae=np.sqrt(metrics.mean_squared_error(predicted_value,actual_value))\n",
        "print(\".......... R2 ..........\")\n",
        "print(validation_acc)\n",
        "print(test_acc)\n",
        "print(\".......... log Value MAE ..........\")\n",
        "print(validation_mae)\n",
        "print(test_mae)\n",
        "print(\".......... RMSE ..........\")\n",
        "print(validation_rmse)\n",
        "print(test_rmse)\n",
        "print(\".......... Value MAE ..........\")\n",
        "print(validation_value_mae)\n",
        "print(test_value_mae)\n"
      ],
      "metadata": {
        "colab": {
          "base_uri": "https://localhost:8080/"
        },
        "id": "s4RSsfYa3Flv",
        "outputId": "9173df35-684e-4d5d-fffc-aef4397ee9cc"
      },
      "execution_count": null,
      "outputs": [
        {
          "output_type": "stream",
          "name": "stdout",
          "text": [
            ".......... R2 ..........\n",
            "0.733158282393451\n",
            "0.7338281502501329\n",
            ".......... log Value MAE ..........\n",
            "1.8172122853085089\n",
            "1.8278176903005197\n",
            ".......... RMSE ..........\n",
            "2.1274499517078067\n",
            "2.1410466807303026\n",
            ".......... Value MAE ..........\n",
            "327.39920337003934\n",
            "495.629341916139\n"
          ]
        }
      ]
    },
    {
      "cell_type": "markdown",
      "source": [
        "##### ***Learning Curve***"
      ],
      "metadata": {
        "id": "Dla8urL64vCC"
      }
    },
    {
      "cell_type": "code",
      "source": [
        "from sklearn.model_selection import learning_curve\n",
        "model2=linear_model.Ridge(alpha=ridge_GS.best_params_.get(\"alpha\"))\n",
        " \n",
        "\n",
        "train_sizes,train_scores,test_scores = learning_curve(model2, X_train, y_train, cv=10, \n",
        "                                                        scoring='r2', n_jobs=-1,\n",
        "                                                        train_sizes=np.linspace(0.01, 1.0, 50))\n",
        "\n",
        "train_loss=1-train_scores\n",
        "test_loss=1-test_scores\n",
        "train_mean = np.mean(train_loss, axis=1)\n",
        "train_std = np.std(train_loss, axis=1)\n",
        "\n",
        "test_mean = np.mean(test_loss, axis=1)\n",
        "test_std = np.std(test_loss, axis=1)"
      ],
      "metadata": {
        "id": "681lalBr40bS"
      },
      "execution_count": null,
      "outputs": []
    },
    {
      "cell_type": "code",
      "source": [
        "plt.subplots(1, figsize=(10,10))\n",
        "plt.plot(train_sizes, train_mean, '--', color=\"r\",  label=\"Training score\")\n",
        "plt.plot(train_sizes, test_mean, color=\"b\", label=\"Cross-validation score\")\n",
        "\n",
        "plt.fill_between(train_sizes, (train_mean - train_std), (train_mean + train_std), color=\"#DDDDDD\")\n",
        "plt.fill_between(train_sizes, (test_mean - test_std), (test_mean + test_std), color=\"#DDDDDD\")\n",
        "\n",
        "plt.title(\"Learning Curve\")\n",
        "plt.xlabel(\"Training Set Size\"), plt.ylabel(\"Loss\"), plt.legend(loc=\"best\")\n",
        "plt.ylim(0,1)\n",
        "plt.tight_layout()\n",
        "plt.show()"
      ],
      "metadata": {
        "colab": {
          "base_uri": "https://localhost:8080/",
          "height": 729
        },
        "id": "U6ghx9064-zF",
        "outputId": "db2ced79-5f4e-4812-942a-db03ecea546a"
      },
      "execution_count": null,
      "outputs": [
        {
          "output_type": "display_data",
          "data": {
            "text/plain": [
              "<Figure size 720x720 with 1 Axes>"
            ],
            "image/png": "[encoded data removed]"
          },
          "metadata": {}
        }
      ]
    },
    {
      "cell_type": "markdown",
      "source": [
        "#### ***Random Forest***"
      ],
      "metadata": {
        "id": "2TWelwz1RNj_"
      }
    },
    {
      "cell_type": "code",
      "source": [
        "from sklearn.ensemble import RandomForestRegressor"
      ],
      "metadata": {
        "id": "n-WgTr6WdodY"
      },
      "execution_count": null,
      "outputs": []
    },
    {
      "cell_type": "markdown",
      "source": [
        "Hyperparameter tuning with ***GridSearchCV***"
      ],
      "metadata": {
        "id": "Hi93-LtivEfF"
      }
    },
    {
      "cell_type": "code",
      "source": [
        "# from sklearn.ensemble import RandomForestRegressor\n",
        "# import time\n",
        "# current_time=time.time()\n",
        "# parameters = {'n_estimators':np.arange(100,300,50),'max_depth':np.arange(12,40,1),\n",
        "#               'max_features':['sqrt', 'log2',1]}\n",
        "# random_forest_model =RandomForestRegressor(random_state=0)\n",
        "# # random_forest_model_GS=GridSearchCV(random_forest_model, parameters,scoring=\"neg_mean_squared_error\",cv=4,return_train_score=True)\n",
        "# random_forest_model_GS=GridSearchCV(random_forest_model, parameters,scoring=\"neg_mean_absolute_error\",cv=4,return_train_score=True,verbose=10)\n",
        "# random_forest_model_GS.fit(X_train,y_train)\n",
        "# best_random_forest_model=random_forest_model_GS.best_estimator_\n",
        "# y_pred=random_forest_model_GS.best_estimator_.predict(X_test)\n",
        "# y_pred_value=np.exp(y_pred)\n",
        "# y_test_value=np.exp(y_test)\n",
        "# sns.scatterplot(np.arange(y_test_value.shape[0]),y_test_value-y_pred_value)\n",
        "# plt.xlabel(\"Rows\")\n",
        "# plt.ylabel(\"Value Diff.\")\n",
        "# print(time.time()-current_time)"
      ],
      "metadata": {
        "id": "I2coHqOVRU06"
      },
      "execution_count": null,
      "outputs": []
    },
    {
      "cell_type": "code",
      "source": [
        "# random_forest_model_GS.best_params_"
      ],
      "metadata": {
        "id": "w3VgqTKu9EHH"
      },
      "execution_count": null,
      "outputs": []
    },
    {
      "cell_type": "code",
      "source": [
        "from sklearn import metrics\n",
        "from sklearn.model_selection import KFold\n",
        "import sklearn.metrics\n",
        "kf = KFold(n_splits=5,shuffle=True,random_state=0)\n",
        "acc=[]\n",
        "mae=[]\n",
        "rmse=[]\n",
        "value_mae=[]\n",
        "for train_index, test_index in kf.split(X_train):\n",
        "  X_train_part, X_val = X_train.iloc[train_index], X_train.iloc[test_index]\n",
        "  y_train_part, y_val = y_train.iloc[train_index], y_train.iloc[test_index]\n",
        "  # These parameters defined by Grid Search result\n",
        "  reg=RandomForestRegressor(n_estimators=350,max_depth=27,max_features=\"sqrt\",random_state=0)     \n",
        "  reg.fit(X_train_part,y_train_part)\n",
        "  predicted_y=reg.predict(X_val)\n",
        "  predicted_value=np.exp(predicted_y)\n",
        "  actual_value=np.exp(y_val)\n",
        "  acc.append(reg.score(X_val,y_val))\n",
        "  mae.append(metrics.mean_absolute_error(predicted_y,y_val))\n",
        "  rmse.append(np.sqrt(metrics.mean_squared_error(predicted_y,y_val)))\n",
        "  value_mae.append(metrics.mean_absolute_error(predicted_value,actual_value))\n",
        "  \n",
        "  \n",
        "\n",
        " \n",
        "acc=np.array(acc)\n",
        "mae=np.array(mae)\n",
        "rmse=np.array(rmse)\n",
        "value_mae=np.array(value_mae)\n",
        "validation_mae=np.mean(mae)\n",
        "validation_acc=np.mean(acc)\n",
        "validation_rmse=np.mean(rmse)\n",
        "validation_value_mae=np.mean(value_mae)\n",
        "reg=RandomForestRegressor(n_estimators=350,max_depth=27,max_features=\"sqrt\",random_state=0)   \n",
        "reg.fit(X_train,y_train)\n",
        "predicted_y=reg.predict(X_test)\n",
        "predicted_value=np.exp(predicted_y)\n",
        "actual_value=np.exp(y_test)\n",
        "test_acc=reg.score(X_test,y_test)\n",
        "test_mae=metrics.mean_absolute_error(predicted_y,y_test)\n",
        "test_rmse=np.sqrt(metrics.mean_squared_error(predicted_y,y_test))\n",
        "test_value_mae=metrics.mean_absolute_error(predicted_value,actual_value)\n",
        "print(\".......... R2 ..........\")\n",
        "print(validation_acc)\n",
        "print(test_acc)\n",
        "print(\".......... log Value MAE ..........\")\n",
        "print(validation_mae)\n",
        "print(test_mae)\n",
        "print(\".......... RMSE ..........\")\n",
        "print(validation_rmse)\n",
        "print(test_rmse)\n",
        "print(\".......... Value MAE ..........\")\n",
        "print(validation_value_mae)\n",
        "print(test_value_mae)\n"
      ],
      "metadata": {
        "colab": {
          "base_uri": "https://localhost:8080/"
        },
        "id": "8IzJOScF9E-g",
        "outputId": "1878144f-1a53-43ea-9011-65c826c759ee"
      },
      "execution_count": null,
      "outputs": [
        {
          "output_type": "stream",
          "name": "stdout",
          "text": [
            ".......... R2 ..........\n",
            "0.9549294779000377\n",
            "0.9594668080019694\n",
            ".......... log Value MAE ..........\n",
            "0.43168900004999344\n",
            "0.39810557600223817\n",
            ".......... RMSE ..........\n",
            "0.8743594504944762\n",
            "0.8355077406103263\n",
            ".......... Value MAE ..........\n",
            "0.6075433688360509\n",
            "0.5970564171298376\n"
          ]
        }
      ]
    },
    {
      "cell_type": "code",
      "source": [
        "# Feature importance\n",
        "fr_features=reg.feature_names_in_\n",
        "fr_feature_importance=reg.feature_importances_\n",
        "indexes=fr_feature_importance.argsort()\n",
        "sns.barplot(fr_feature_importance[indexes],fr_features[indexes])"
      ],
      "metadata": {
        "colab": {
          "base_uri": "https://localhost:8080/",
          "height": 285
        },
        "id": "gaOJHki9EN5g",
        "outputId": "174debb8-99de-422f-f4f8-e73db2c26df2"
      },
      "execution_count": null,
      "outputs": [
        {
          "output_type": "execute_result",
          "data": {
            "text/plain": [
              "<matplotlib.axes._subplots.AxesSubplot at 0x7feb61e9e550>"
            ]
          },
          "metadata": {},
          "execution_count": 56
        },
        {
          "output_type": "display_data",
          "data": {
            "text/plain": [
              "<Figure size 432x288 with 1 Axes>"
            ],
            "image/png": "[encoded data removed]"
          },
          "metadata": {}
        }
      ]
    },
    {
      "cell_type": "markdown",
      "source": [
        "##### ***Learning Curve***"
      ],
      "metadata": {
        "id": "wWDZpHcF6vJF"
      }
    },
    {
      "cell_type": "code",
      "source": [
        "from sklearn.model_selection import learning_curve\n",
        "model2=RandomForestRegressor(n_estimators=350,max_depth=27,max_features=\"sqrt\",random_state=0)   \n",
        "\n",
        "train_sizes,train_scores,test_scores = learning_curve(model2, X_train, y_train, cv=10, \n",
        "                                                        scoring='r2', n_jobs=-1,\n",
        "                                                        train_sizes=np.linspace(0.01, 1.0, 50))\n",
        "\n",
        "train_loss=1-train_scores\n",
        "test_loss=1-test_scores\n",
        "train_mean = np.mean(train_loss, axis=1)\n",
        "train_std = np.std(train_loss, axis=1)\n",
        "\n",
        "test_mean = np.mean(test_loss, axis=1)\n",
        "test_std = np.std(test_loss, axis=1)"
      ],
      "metadata": {
        "id": "JVvbIzLKZWKE"
      },
      "execution_count": null,
      "outputs": []
    },
    {
      "cell_type": "code",
      "source": [
        "plt.subplots(1, figsize=(10,10))\n",
        "plt.plot(train_sizes, train_mean, '--', color=\"r\",  label=\"Training score\")\n",
        "plt.plot(train_sizes, test_mean, color=\"b\", label=\"Cross-validation score\")\n",
        "\n",
        "plt.fill_between(train_sizes, (train_mean - train_std), (train_mean + train_std), color=\"#DDDDDD\")\n",
        "plt.fill_between(train_sizes, (test_mean - test_std), (test_mean + test_std), color=\"#DDDDDD\")\n",
        "\n",
        "plt.title(\"Learning Curve\")\n",
        "plt.xlabel(\"Training Set Size\"), plt.ylabel(\"Loss\"), plt.legend(loc=\"best\")\n",
        "plt.ylim(0,1)\n",
        "plt.tight_layout()\n",
        "plt.show()"
      ],
      "metadata": {
        "colab": {
          "base_uri": "https://localhost:8080/",
          "height": 729
        },
        "id": "Nv59-bKFZZnv",
        "outputId": "9118b0dc-f7f8-4671-b956-c45c0760434d"
      },
      "execution_count": null,
      "outputs": [
        {
          "output_type": "display_data",
          "data": {
            "text/plain": [
              "<Figure size 720x720 with 1 Axes>"
            ],
            "image/png": "[encoded data removed]"
          },
          "metadata": {}
        }
      ]
    },
    {
      "cell_type": "code",
      "source": [
        "from sklearn.model_selection import learning_curve\n",
        "model2=RandomForestRegressor(n_estimators=350,max_depth=27,max_features=\"sqrt\",random_state=0)   \n",
        "\n",
        "train_sizes,train_negmse_scores,test_negmse_scores = learning_curve(model2, X_train, y_train, cv=10, \n",
        "                                                        scoring='neg_mean_squared_error', n_jobs=-1,\n",
        "                                                        train_sizes=np.linspace(0.01, 1.0, 50))\n",
        "\n",
        "train_mse_loss=-train_negmse_scores\n",
        "test_mse_loss=-test_negmse_scores\n",
        "train_mse_mean = np.mean(train_mse_loss, axis=1)\n",
        "train_mse_std = np.std(train_mse_loss, axis=1)\n",
        "\n",
        "test_mse_mean = np.mean(test_mse_loss, axis=1)\n",
        "test_mse_std = np.std(test_mse_loss, axis=1)"
      ],
      "metadata": {
        "id": "UuONGI5giuPH"
      },
      "execution_count": null,
      "outputs": []
    },
    {
      "cell_type": "code",
      "source": [
        "plt.subplots(1, figsize=(10,10))\n",
        "plt.plot(train_sizes, train_mse_mean, '--', color=\"r\",  label=\"Training score\")\n",
        "plt.plot(train_sizes, test_mse_mean, color=\"b\", label=\"Cross-validation score\")\n",
        "\n",
        "plt.fill_between(train_sizes, (train_mse_mean - train_mse_std), (train_mse_mean + train_mse_std), color=\"#DDDDDD\")\n",
        "plt.fill_between(train_sizes, (test_mse_mean - test_mse_std), (test_mse_mean + test_mse_std), color=\"#DDDDDD\")\n",
        "\n",
        "plt.title(\"Learning Curve\")\n",
        "plt.xlabel(\"Training Set Size\"), plt.ylabel(\"MSE\"), plt.legend(loc=\"best\")\n",
        "plt.tight_layout()\n",
        "plt.show()"
      ],
      "metadata": {
        "colab": {
          "base_uri": "https://localhost:8080/",
          "height": 729
        },
        "id": "ueUr-cYVjPZ_",
        "outputId": "4d6d27ad-c7cc-4302-9a76-2ab7314b25eb"
      },
      "execution_count": null,
      "outputs": [
        {
          "output_type": "display_data",
          "data": {
            "text/plain": [
              "<Figure size 720x720 with 1 Axes>"
            ],
            "image/png": "[encoded data removed]"
          },
          "metadata": {}
        }
      ]
    },
    {
      "cell_type": "markdown",
      "source": [
        "##### ***Error analysis***"
      ],
      "metadata": {
        "id": "k0-iiLq8EqMQ"
      }
    },
    {
      "cell_type": "code",
      "source": [
        "frames = [train_df,test_df]\n",
        "df_names = pd.concat(frames)"
      ],
      "metadata": {
        "id": "40P7TDffYjC6"
      },
      "execution_count": null,
      "outputs": []
    },
    {
      "cell_type": "code",
      "source": [
        "frames = [X_train,X_test]\n",
        "df = pd.concat(frames)\n",
        "frames = [y_train,y_test]\n",
        "y_col= pd.concat(frames)\n",
        "df[\"log Value\"]=y_col\n",
        "df[\"Value\"]=np.exp(df[\"log Value\"])\n",
        "df[\"Predicted Value\"]=reg.predict(df.iloc[:,:-2])\n",
        "df[\"Predicted Value\"]=np.exp(df[\"Predicted Value\"])\n",
        "df[\"Diff\"]=df[\"Predicted Value\"]-df[\"Value\"]\n",
        "df.insert(0,\"Name\",df_names[\"Name\"])"
      ],
      "metadata": {
        "id": "v0GnyqFzVhVQ"
      },
      "execution_count": null,
      "outputs": []
    },
    {
      "cell_type": "code",
      "source": [
        "# See some examples\n",
        "# df[df[\"Name\"]==\"Karim Benzema\"]\n",
        "# df[df[\"Name\"]==\"Toni Kroos\"]\n",
        "df[df[\"Name\"]==\"Thibaut Courtois\"]"
      ],
      "metadata": {
        "colab": {
          "base_uri": "https://localhost:8080/",
          "height": 209
        },
        "id": "vNR7TGkVZalz",
        "outputId": "cf8c2c55-b6d8-4835-aef6-9a5d21ce7395"
      },
      "execution_count": null,
      "outputs": [
        {
          "output_type": "execute_result",
          "data": {
            "text/plain": [
              "               Name       Age    Height  Club_percentiles  Reputation  \\\n",
              "9  Thibaut Courtois  0.739594  2.569455          1.421239    6.372777   \n",
              "\n",
              "   Overall  Potential  Ball Control  totalDefence  totalAttack  ...  \\\n",
              "9  3.47199   2.968619     -2.709344     -1.563173    -2.607436  ...   \n",
              "\n",
              "   totalMentality  totalSkill  Position_G  Position_D  Position_C       Wage  \\\n",
              "9       -2.491534   -2.264722    3.288099   -0.714336    -0.80309  10.615234   \n",
              "\n",
              "   log Value  Value  Predicted Value      Diff  \n",
              "9   4.369448   79.0        73.120626 -5.879374  \n",
              "\n",
              "[1 rows x 22 columns]"
            ],
            "text/html": [
              "\n",
              "  <div id=\"df-51e522d3-98c1-4e5f-a83a-976af32d18e6\">\n",
              "    <div class=\"colab-df-container\">\n",
              "      <div>\n",
              "<style scoped>\n",
              "    .dataframe tbody tr th:only-of-type {\n",
              "        vertical-align: middle;\n",
              "    }\n",
              "\n",
              "    .dataframe tbody tr th {\n",
              "        vertical-align: top;\n",
              "    }\n",
              "\n",
              "    .dataframe thead th {\n",
              "        text-align: right;\n",
              "    }\n",
              "</style>\n",
              "<table border=\"1\" class=\"dataframe\">\n",
              "  <thead>\n",
              "    <tr style=\"text-align: right;\">\n",
              "      <th></th>\n",
              "      <th>Name</th>\n",
              "      <th>Age</th>\n",
              "      <th>Height</th>\n",
              "      <th>Club_percentiles</th>\n",
              "      <th>Reputation</th>\n",
              "      <th>Overall</th>\n",
              "      <th>Potential</th>\n",
              "      <th>Ball Control</th>\n",
              "      <th>totalDefence</th>\n",
              "      <th>totalAttack</th>\n",
              "      <th>...</th>\n",
              "      <th>totalMentality</th>\n",
              "      <th>totalSkill</th>\n",
              "      <th>Position_G</th>\n",
              "      <th>Position_D</th>\n",
              "      <th>Position_C</th>\n",
              "      <th>Wage</th>\n",
              "      <th>log Value</th>\n",
              "      <th>Value</th>\n",
              "      <th>Predicted Value</th>\n",
              "      <th>Diff</th>\n",
              "    </tr>\n",
              "  </thead>\n",
              "  <tbody>\n",
              "    <tr>\n",
              "      <th>9</th>\n",
              "      <td>Thibaut Courtois</td>\n",
              "      <td>0.739594</td>\n",
              "      <td>2.569455</td>\n",
              "      <td>1.421239</td>\n",
              "      <td>6.372777</td>\n",
              "      <td>3.47199</td>\n",
              "      <td>2.968619</td>\n",
              "      <td>-2.709344</td>\n",
              "      <td>-1.563173</td>\n",
              "      <td>-2.607436</td>\n",
              "      <td>...</td>\n",
              "      <td>-2.491534</td>\n",
              "      <td>-2.264722</td>\n",
              "      <td>3.288099</td>\n",
              "      <td>-0.714336</td>\n",
              "      <td>-0.80309</td>\n",
              "      <td>10.615234</td>\n",
              "      <td>4.369448</td>\n",
              "      <td>79.0</td>\n",
              "      <td>73.120626</td>\n",
              "      <td>-5.879374</td>\n",
              "    </tr>\n",
              "  </tbody>\n",
              "</table>\n",
              "<p>1 rows × 22 columns</p>\n",
              "</div>\n",
              "      <button class=\"colab-df-convert\" onclick=\"convertToInteractive('df-51e522d3-98c1-4e5f-a83a-976af32d18e6')\"\n",
              "              title=\"Convert this dataframe to an interactive table.\"\n",
              "              style=\"display:none;\">\n",
              "        \n",
              "  <svg xmlns=\"http://www.w3.org/2000/svg\" height=\"24px\"viewBox=\"0 0 24 24\"\n",
              "       width=\"24px\">\n",
              "    <path d=\"M0 0h24v24H0V0z\" fill=\"none\"/>\n",
              "    <path d=\"M18.56 5.44l.94 2.06.94-2.06 2.06-.94-2.06-.94-.94-2.06-.94 2.06-2.06.94zm-11 1L8.5 8.5l.94-2.06 2.06-.94-2.06-.94L8.5 2.5l-.94 2.06-2.06.94zm10 10l.94 2.06.94-2.06 2.06-.94-2.06-.94-.94-2.06-.94 2.06-2.06.94z\"/><path d=\"M17.41 7.96l-1.37-1.37c-.4-.4-.92-.59-1.43-.59-.52 0-1.04.2-1.43.59L10.3 9.45l-7.72 7.72c-.78.78-.78 2.05 0 2.83L4 21.41c.39.39.9.59 1.41.59.51 0 1.02-.2 1.41-.59l7.78-7.78 2.81-2.81c.8-.78.8-2.07 0-2.86zM5.41 20L4 18.59l7.72-7.72 1.47 1.35L5.41 20z\"/>\n",
              "  </svg>\n",
              "      </button>\n",
              "      \n",
              "  <style>\n",
              "    .colab-df-container {\n",
              "      display:flex;\n",
              "      flex-wrap:wrap;\n",
              "      gap: 12px;\n",
              "    }\n",
              "\n",
              "    .colab-df-convert {\n",
              "      background-color: #E8F0FE;\n",
              "      border: none;\n",
              "      border-radius: 50%;\n",
              "      cursor: pointer;\n",
              "      display: none;\n",
              "      fill: #1967D2;\n",
              "      height: 32px;\n",
              "      padding: 0 0 0 0;\n",
              "      width: 32px;\n",
              "    }\n",
              "\n",
              "    .colab-df-convert:hover {\n",
              "      background-color: #E2EBFA;\n",
              "      box-shadow: 0px 1px 2px rgba(60, 64, 67, 0.3), 0px 1px 3px 1px rgba(60, 64, 67, 0.15);\n",
              "      fill: #174EA6;\n",
              "    }\n",
              "\n",
              "    [theme=dark] .colab-df-convert {\n",
              "      background-color: #3B4455;\n",
              "      fill: #D2E3FC;\n",
              "    }\n",
              "\n",
              "    [theme=dark] .colab-df-convert:hover {\n",
              "      background-color: #434B5C;\n",
              "      box-shadow: 0px 1px 3px 1px rgba(0, 0, 0, 0.15);\n",
              "      filter: drop-shadow(0px 1px 2px rgba(0, 0, 0, 0.3));\n",
              "      fill: #FFFFFF;\n",
              "    }\n",
              "  </style>\n",
              "\n",
              "      <script>\n",
              "        const buttonEl =\n",
              "          document.querySelector('#df-51e522d3-98c1-4e5f-a83a-976af32d18e6 button.colab-df-convert');\n",
              "        buttonEl.style.display =\n",
              "          google.colab.kernel.accessAllowed ? 'block' : 'none';\n",
              "\n",
              "        async function convertToInteractive(key) {\n",
              "          const element = document.querySelector('#df-51e522d3-98c1-4e5f-a83a-976af32d18e6');\n",
              "          const dataTable =\n",
              "            await google.colab.kernel.invokeFunction('convertToInteractive',\n",
              "                                                     [key], {});\n",
              "          if (!dataTable) return;\n",
              "\n",
              "          const docLinkHtml = 'Like what you see? Visit the ' +\n",
              "            '<a target=\"_blank\" href=https://colab.research.google.com/notebooks/data_table.ipynb>data table notebook</a>'\n",
              "            + ' to learn more about interactive tables.';\n",
              "          element.innerHTML = '';\n",
              "          dataTable['output_type'] = 'display_data';\n",
              "          await google.colab.output.renderOutput(dataTable, element);\n",
              "          const docLink = document.createElement('div');\n",
              "          docLink.innerHTML = docLinkHtml;\n",
              "          element.appendChild(docLink);\n",
              "        }\n",
              "      </script>\n",
              "    </div>\n",
              "  </div>\n",
              "  "
            ]
          },
          "metadata": {},
          "execution_count": 63
        }
      ]
    },
    {
      "cell_type": "code",
      "source": [
        "# Get first and last percentile\n",
        "upper_bound=df[\"Diff\"].quantile(np.arange(0.01,1,0.01)).to_numpy()[98]\n",
        "lower_bound=df[\"Diff\"].quantile(np.arange(0.01,1,0.01)).to_numpy()[0]\n",
        "def getPos(x):\n",
        "  if x[\"Position_G\"]==1:\n",
        "    return \"G\"\n",
        "  if x[\"Position_D\"]==1:\n",
        "    return \"D\"\n",
        "  if x[\"Position_C\"]==1:\n",
        "    return \"C\"\n",
        "  return \"A\"\n",
        "a=df_model.copy()\n",
        "a[\"Pos\"]=df_model.apply(lambda x: getPos(x),axis=1)\n",
        "df_model.insert(7,\"Pos\",a[\"Pos\"].values)"
      ],
      "metadata": {
        "id": "ABRuKxGTPe9G"
      },
      "execution_count": null,
      "outputs": []
    },
    {
      "cell_type": "code",
      "source": [
        "df_copy=df.copy()\n",
        "df_copy=pd.merge(df_model[[\"Name\",\"Pos\"]],df,on=[\"Name\"])"
      ],
      "metadata": {
        "id": "ENDCaU7wY0UX"
      },
      "execution_count": null,
      "outputs": []
    },
    {
      "cell_type": "code",
      "source": [
        "df=df_copy"
      ],
      "metadata": {
        "id": "eMs-e2PCb1Zh"
      },
      "execution_count": null,
      "outputs": []
    },
    {
      "cell_type": "code",
      "source": [
        "print(\".......... Overrated ..........\")\n",
        "print(df[df[\"Diff\"]>upper_bound].groupby(\"Pos\")[\"Name\"].count()/df.groupby(\"Pos\")[\"Name\"].count())\n",
        "print(\".......... Underrated ............\")\n",
        "print(df[df[\"Diff\"]<lower_bound].groupby(\"Pos\")[\"Name\"].count()/df.groupby(\"Pos\")[\"Name\"].count())"
      ],
      "metadata": {
        "colab": {
          "base_uri": "https://localhost:8080/"
        },
        "id": "n-zLYn9sZVjT",
        "outputId": "cfde097c-3c7d-4baf-999b-269f9fda8423"
      },
      "execution_count": null,
      "outputs": [
        {
          "output_type": "stream",
          "name": "stdout",
          "text": [
            ".......... Overrated ..........\n",
            "Pos\n",
            "A    0.009046\n",
            "C    0.010576\n",
            "D    0.011782\n",
            "G    0.002896\n",
            "Name: Name, dtype: float64\n",
            ".......... Underrated ............\n",
            "Pos\n",
            "A    0.009950\n",
            "C    0.009929\n",
            "D    0.008346\n",
            "G    0.017375\n",
            "Name: Name, dtype: float64\n"
          ]
        }
      ]
    },
    {
      "cell_type": "code",
      "source": [
        "print(\"Overrated\")\n",
        "df[df[\"Diff\"]<lower_bound].sort_values(\"Diff\",ascending=True).head(3)"
      ],
      "metadata": {
        "colab": {
          "base_uri": "https://localhost:8080/",
          "height": 324
        },
        "id": "tdZq4oImluAS",
        "outputId": "ab053497-8d94-4c2d-d75d-94e63a5eac03"
      },
      "execution_count": null,
      "outputs": [
        {
          "output_type": "stream",
          "name": "stdout",
          "text": [
            "Overrated\n"
          ]
        },
        {
          "output_type": "execute_result",
          "data": {
            "text/plain": [
              "                   Name Pos       Age    Height  Club_percentiles  Reputation  \\\n",
              "14        Kylian Mbappé   A -0.873937  0.078407          1.421239    6.372777   \n",
              "131      Erling Haaland   A -1.334945  1.836794          1.421239    6.372777   \n",
              "8    Robert Lewandowski   A  1.431107  0.518003          1.421239    8.602056   \n",
              "\n",
              "      Overall  Potential  Ball Control  totalDefence  ...  totalMentality  \\\n",
              "14   3.813807   3.807976      1.928746     -0.941414  ...        1.332246   \n",
              "131  3.301081   3.640105      1.270638     -0.385103  ...        1.547437   \n",
              "8    3.984715   3.304362      1.584023     -0.875965  ...        2.044032   \n",
              "\n",
              "     totalSkill  Position_G  Position_D  Position_C       Wage  log Value  \\\n",
              "14     1.712604   -0.304127   -0.714336    -0.80309   9.718192   5.267858   \n",
              "131    1.022659   -0.304127   -0.714336    -0.80309   4.335934   4.966335   \n",
              "8      1.753189   -0.304127   -0.714336    -0.80309  11.512277   4.783316   \n",
              "\n",
              "     Value  Predicted Value       Diff  \n",
              "14   194.0        96.789538 -97.210462  \n",
              "131  143.5        69.569680 -73.930320  \n",
              "8    119.5        70.971716 -48.528284  \n",
              "\n",
              "[3 rows x 23 columns]"
            ],
            "text/html": [
              "\n",
              "  <div id=\"df-e662314a-8743-4991-ab12-927e8eaacb86\">\n",
              "    <div class=\"colab-df-container\">\n",
              "      <div>\n",
              "<style scoped>\n",
              "    .dataframe tbody tr th:only-of-type {\n",
              "        vertical-align: middle;\n",
              "    }\n",
              "\n",
              "    .dataframe tbody tr th {\n",
              "        vertical-align: top;\n",
              "    }\n",
              "\n",
              "    .dataframe thead th {\n",
              "        text-align: right;\n",
              "    }\n",
              "</style>\n",
              "<table border=\"1\" class=\"dataframe\">\n",
              "  <thead>\n",
              "    <tr style=\"text-align: right;\">\n",
              "      <th></th>\n",
              "      <th>Name</th>\n",
              "      <th>Pos</th>\n",
              "      <th>Age</th>\n",
              "      <th>Height</th>\n",
              "      <th>Club_percentiles</th>\n",
              "      <th>Reputation</th>\n",
              "      <th>Overall</th>\n",
              "      <th>Potential</th>\n",
              "      <th>Ball Control</th>\n",
              "      <th>totalDefence</th>\n",
              "      <th>...</th>\n",
              "      <th>totalMentality</th>\n",
              "      <th>totalSkill</th>\n",
              "      <th>Position_G</th>\n",
              "      <th>Position_D</th>\n",
              "      <th>Position_C</th>\n",
              "      <th>Wage</th>\n",
              "      <th>log Value</th>\n",
              "      <th>Value</th>\n",
              "      <th>Predicted Value</th>\n",
              "      <th>Diff</th>\n",
              "    </tr>\n",
              "  </thead>\n",
              "  <tbody>\n",
              "    <tr>\n",
              "      <th>14</th>\n",
              "      <td>Kylian Mbappé</td>\n",
              "      <td>A</td>\n",
              "      <td>-0.873937</td>\n",
              "      <td>0.078407</td>\n",
              "      <td>1.421239</td>\n",
              "      <td>6.372777</td>\n",
              "      <td>3.813807</td>\n",
              "      <td>3.807976</td>\n",
              "      <td>1.928746</td>\n",
              "      <td>-0.941414</td>\n",
              "      <td>...</td>\n",
              "      <td>1.332246</td>\n",
              "      <td>1.712604</td>\n",
              "      <td>-0.304127</td>\n",
              "      <td>-0.714336</td>\n",
              "      <td>-0.80309</td>\n",
              "      <td>9.718192</td>\n",
              "      <td>5.267858</td>\n",
              "      <td>194.0</td>\n",
              "      <td>96.789538</td>\n",
              "      <td>-97.210462</td>\n",
              "    </tr>\n",
              "    <tr>\n",
              "      <th>131</th>\n",
              "      <td>Erling Haaland</td>\n",
              "      <td>A</td>\n",
              "      <td>-1.334945</td>\n",
              "      <td>1.836794</td>\n",
              "      <td>1.421239</td>\n",
              "      <td>6.372777</td>\n",
              "      <td>3.301081</td>\n",
              "      <td>3.640105</td>\n",
              "      <td>1.270638</td>\n",
              "      <td>-0.385103</td>\n",
              "      <td>...</td>\n",
              "      <td>1.547437</td>\n",
              "      <td>1.022659</td>\n",
              "      <td>-0.304127</td>\n",
              "      <td>-0.714336</td>\n",
              "      <td>-0.80309</td>\n",
              "      <td>4.335934</td>\n",
              "      <td>4.966335</td>\n",
              "      <td>143.5</td>\n",
              "      <td>69.569680</td>\n",
              "      <td>-73.930320</td>\n",
              "    </tr>\n",
              "    <tr>\n",
              "      <th>8</th>\n",
              "      <td>Robert Lewandowski</td>\n",
              "      <td>A</td>\n",
              "      <td>1.431107</td>\n",
              "      <td>0.518003</td>\n",
              "      <td>1.421239</td>\n",
              "      <td>8.602056</td>\n",
              "      <td>3.984715</td>\n",
              "      <td>3.304362</td>\n",
              "      <td>1.584023</td>\n",
              "      <td>-0.875965</td>\n",
              "      <td>...</td>\n",
              "      <td>2.044032</td>\n",
              "      <td>1.753189</td>\n",
              "      <td>-0.304127</td>\n",
              "      <td>-0.714336</td>\n",
              "      <td>-0.80309</td>\n",
              "      <td>11.512277</td>\n",
              "      <td>4.783316</td>\n",
              "      <td>119.5</td>\n",
              "      <td>70.971716</td>\n",
              "      <td>-48.528284</td>\n",
              "    </tr>\n",
              "  </tbody>\n",
              "</table>\n",
              "<p>3 rows × 23 columns</p>\n",
              "</div>\n",
              "      <button class=\"colab-df-convert\" onclick=\"convertToInteractive('df-e662314a-8743-4991-ab12-927e8eaacb86')\"\n",
              "              title=\"Convert this dataframe to an interactive table.\"\n",
              "              style=\"display:none;\">\n",
              "        \n",
              "  <svg xmlns=\"http://www.w3.org/2000/svg\" height=\"24px\"viewBox=\"0 0 24 24\"\n",
              "       width=\"24px\">\n",
              "    <path d=\"M0 0h24v24H0V0z\" fill=\"none\"/>\n",
              "    <path d=\"M18.56 5.44l.94 2.06.94-2.06 2.06-.94-2.06-.94-.94-2.06-.94 2.06-2.06.94zm-11 1L8.5 8.5l.94-2.06 2.06-.94-2.06-.94L8.5 2.5l-.94 2.06-2.06.94zm10 10l.94 2.06.94-2.06 2.06-.94-2.06-.94-.94-2.06-.94 2.06-2.06.94z\"/><path d=\"M17.41 7.96l-1.37-1.37c-.4-.4-.92-.59-1.43-.59-.52 0-1.04.2-1.43.59L10.3 9.45l-7.72 7.72c-.78.78-.78 2.05 0 2.83L4 21.41c.39.39.9.59 1.41.59.51 0 1.02-.2 1.41-.59l7.78-7.78 2.81-2.81c.8-.78.8-2.07 0-2.86zM5.41 20L4 18.59l7.72-7.72 1.47 1.35L5.41 20z\"/>\n",
              "  </svg>\n",
              "      </button>\n",
              "      \n",
              "  <style>\n",
              "    .colab-df-container {\n",
              "      display:flex;\n",
              "      flex-wrap:wrap;\n",
              "      gap: 12px;\n",
              "    }\n",
              "\n",
              "    .colab-df-convert {\n",
              "      background-color: #E8F0FE;\n",
              "      border: none;\n",
              "      border-radius: 50%;\n",
              "      cursor: pointer;\n",
              "      display: none;\n",
              "      fill: #1967D2;\n",
              "      height: 32px;\n",
              "      padding: 0 0 0 0;\n",
              "      width: 32px;\n",
              "    }\n",
              "\n",
              "    .colab-df-convert:hover {\n",
              "      background-color: #E2EBFA;\n",
              "      box-shadow: 0px 1px 2px rgba(60, 64, 67, 0.3), 0px 1px 3px 1px rgba(60, 64, 67, 0.15);\n",
              "      fill: #174EA6;\n",
              "    }\n",
              "\n",
              "    [theme=dark] .colab-df-convert {\n",
              "      background-color: #3B4455;\n",
              "      fill: #D2E3FC;\n",
              "    }\n",
              "\n",
              "    [theme=dark] .colab-df-convert:hover {\n",
              "      background-color: #434B5C;\n",
              "      box-shadow: 0px 1px 3px 1px rgba(0, 0, 0, 0.15);\n",
              "      filter: drop-shadow(0px 1px 2px rgba(0, 0, 0, 0.3));\n",
              "      fill: #FFFFFF;\n",
              "    }\n",
              "  </style>\n",
              "\n",
              "      <script>\n",
              "        const buttonEl =\n",
              "          document.querySelector('#df-e662314a-8743-4991-ab12-927e8eaacb86 button.colab-df-convert');\n",
              "        buttonEl.style.display =\n",
              "          google.colab.kernel.accessAllowed ? 'block' : 'none';\n",
              "\n",
              "        async function convertToInteractive(key) {\n",
              "          const element = document.querySelector('#df-e662314a-8743-4991-ab12-927e8eaacb86');\n",
              "          const dataTable =\n",
              "            await google.colab.kernel.invokeFunction('convertToInteractive',\n",
              "                                                     [key], {});\n",
              "          if (!dataTable) return;\n",
              "\n",
              "          const docLinkHtml = 'Like what you see? Visit the ' +\n",
              "            '<a target=\"_blank\" href=https://colab.research.google.com/notebooks/data_table.ipynb>data table notebook</a>'\n",
              "            + ' to learn more about interactive tables.';\n",
              "          element.innerHTML = '';\n",
              "          dataTable['output_type'] = 'display_data';\n",
              "          await google.colab.output.renderOutput(dataTable, element);\n",
              "          const docLink = document.createElement('div');\n",
              "          docLink.innerHTML = docLinkHtml;\n",
              "          element.appendChild(docLink);\n",
              "        }\n",
              "      </script>\n",
              "    </div>\n",
              "  </div>\n",
              "  "
            ]
          },
          "metadata": {},
          "execution_count": 68
        }
      ]
    },
    {
      "cell_type": "code",
      "source": [
        "print(\"Underrated\")\n",
        "df[df[\"Diff\"]>upper_bound].sort_values(\"Diff\",ascending=False).head(3)"
      ],
      "metadata": {
        "colab": {
          "base_uri": "https://localhost:8080/",
          "height": 341
        },
        "id": "LTYzCKekmc-7",
        "outputId": "0398f57d-867c-46f9-efe7-9f287e9acb9a"
      },
      "execution_count": null,
      "outputs": [
        {
          "output_type": "stream",
          "name": "stdout",
          "text": [
            "Underrated\n"
          ]
        },
        {
          "output_type": "execute_result",
          "data": {
            "text/plain": [
              "                      Name Pos       Age    Height  Club_percentiles  \\\n",
              "85          Ángel Di María   A  1.661611 -0.214658          1.421239   \n",
              "47   Gerard Piqué Bernabeu   D  1.892115  1.836794          1.421239   \n",
              "651     Zlatan Ibrahimović   A  3.044637  1.983326          1.421239   \n",
              "\n",
              "     Reputation   Overall  Potential  Ball Control  totalDefence  ...  \\\n",
              "85     6.372777  2.788355   2.129262      1.646700     -0.025137  ...   \n",
              "47     6.372777  2.617447   1.961390      0.643870      1.676519  ...   \n",
              "651    8.602056  2.446538   1.793519      1.270638     -0.990500  ...   \n",
              "\n",
              "     totalMentality  totalSkill  Position_G  Position_D  Position_C      Wage  \\\n",
              "85         1.431565    2.131981   -0.304127   -0.714336    -0.80309  5.457238   \n",
              "47         1.630203    0.630338   -0.304127    1.399901    -0.80309  7.251324   \n",
              "651        1.365352    1.509679   -0.304127   -0.714336    -0.80309  1.465397   \n",
              "\n",
              "     log Value  Value  Predicted Value      Diff  \n",
              "85    3.511545   33.5        41.107944  7.607944  \n",
              "47    2.602690   13.5        18.891637  5.391637  \n",
              "651   2.525729   12.5        17.418917  4.918917  \n",
              "\n",
              "[3 rows x 23 columns]"
            ],
            "text/html": [
              "\n",
              "  <div id=\"df-0e955a82-be58-402d-a458-32ec4d66689f\">\n",
              "    <div class=\"colab-df-container\">\n",
              "      <div>\n",
              "<style scoped>\n",
              "    .dataframe tbody tr th:only-of-type {\n",
              "        vertical-align: middle;\n",
              "    }\n",
              "\n",
              "    .dataframe tbody tr th {\n",
              "        vertical-align: top;\n",
              "    }\n",
              "\n",
              "    .dataframe thead th {\n",
              "        text-align: right;\n",
              "    }\n",
              "</style>\n",
              "<table border=\"1\" class=\"dataframe\">\n",
              "  <thead>\n",
              "    <tr style=\"text-align: right;\">\n",
              "      <th></th>\n",
              "      <th>Name</th>\n",
              "      <th>Pos</th>\n",
              "      <th>Age</th>\n",
              "      <th>Height</th>\n",
              "      <th>Club_percentiles</th>\n",
              "      <th>Reputation</th>\n",
              "      <th>Overall</th>\n",
              "      <th>Potential</th>\n",
              "      <th>Ball Control</th>\n",
              "      <th>totalDefence</th>\n",
              "      <th>...</th>\n",
              "      <th>totalMentality</th>\n",
              "      <th>totalSkill</th>\n",
              "      <th>Position_G</th>\n",
              "      <th>Position_D</th>\n",
              "      <th>Position_C</th>\n",
              "      <th>Wage</th>\n",
              "      <th>log Value</th>\n",
              "      <th>Value</th>\n",
              "      <th>Predicted Value</th>\n",
              "      <th>Diff</th>\n",
              "    </tr>\n",
              "  </thead>\n",
              "  <tbody>\n",
              "    <tr>\n",
              "      <th>85</th>\n",
              "      <td>Ángel Di María</td>\n",
              "      <td>A</td>\n",
              "      <td>1.661611</td>\n",
              "      <td>-0.214658</td>\n",
              "      <td>1.421239</td>\n",
              "      <td>6.372777</td>\n",
              "      <td>2.788355</td>\n",
              "      <td>2.129262</td>\n",
              "      <td>1.646700</td>\n",
              "      <td>-0.025137</td>\n",
              "      <td>...</td>\n",
              "      <td>1.431565</td>\n",
              "      <td>2.131981</td>\n",
              "      <td>-0.304127</td>\n",
              "      <td>-0.714336</td>\n",
              "      <td>-0.80309</td>\n",
              "      <td>5.457238</td>\n",
              "      <td>3.511545</td>\n",
              "      <td>33.5</td>\n",
              "      <td>41.107944</td>\n",
              "      <td>7.607944</td>\n",
              "    </tr>\n",
              "    <tr>\n",
              "      <th>47</th>\n",
              "      <td>Gerard Piqué Bernabeu</td>\n",
              "      <td>D</td>\n",
              "      <td>1.892115</td>\n",
              "      <td>1.836794</td>\n",
              "      <td>1.421239</td>\n",
              "      <td>6.372777</td>\n",
              "      <td>2.617447</td>\n",
              "      <td>1.961390</td>\n",
              "      <td>0.643870</td>\n",
              "      <td>1.676519</td>\n",
              "      <td>...</td>\n",
              "      <td>1.630203</td>\n",
              "      <td>0.630338</td>\n",
              "      <td>-0.304127</td>\n",
              "      <td>1.399901</td>\n",
              "      <td>-0.80309</td>\n",
              "      <td>7.251324</td>\n",
              "      <td>2.602690</td>\n",
              "      <td>13.5</td>\n",
              "      <td>18.891637</td>\n",
              "      <td>5.391637</td>\n",
              "    </tr>\n",
              "    <tr>\n",
              "      <th>651</th>\n",
              "      <td>Zlatan Ibrahimović</td>\n",
              "      <td>A</td>\n",
              "      <td>3.044637</td>\n",
              "      <td>1.983326</td>\n",
              "      <td>1.421239</td>\n",
              "      <td>8.602056</td>\n",
              "      <td>2.446538</td>\n",
              "      <td>1.793519</td>\n",
              "      <td>1.270638</td>\n",
              "      <td>-0.990500</td>\n",
              "      <td>...</td>\n",
              "      <td>1.365352</td>\n",
              "      <td>1.509679</td>\n",
              "      <td>-0.304127</td>\n",
              "      <td>-0.714336</td>\n",
              "      <td>-0.80309</td>\n",
              "      <td>1.465397</td>\n",
              "      <td>2.525729</td>\n",
              "      <td>12.5</td>\n",
              "      <td>17.418917</td>\n",
              "      <td>4.918917</td>\n",
              "    </tr>\n",
              "  </tbody>\n",
              "</table>\n",
              "<p>3 rows × 23 columns</p>\n",
              "</div>\n",
              "      <button class=\"colab-df-convert\" onclick=\"convertToInteractive('df-0e955a82-be58-402d-a458-32ec4d66689f')\"\n",
              "              title=\"Convert this dataframe to an interactive table.\"\n",
              "              style=\"display:none;\">\n",
              "        \n",
              "  <svg xmlns=\"http://www.w3.org/2000/svg\" height=\"24px\"viewBox=\"0 0 24 24\"\n",
              "       width=\"24px\">\n",
              "    <path d=\"M0 0h24v24H0V0z\" fill=\"none\"/>\n",
              "    <path d=\"M18.56 5.44l.94 2.06.94-2.06 2.06-.94-2.06-.94-.94-2.06-.94 2.06-2.06.94zm-11 1L8.5 8.5l.94-2.06 2.06-.94-2.06-.94L8.5 2.5l-.94 2.06-2.06.94zm10 10l.94 2.06.94-2.06 2.06-.94-2.06-.94-.94-2.06-.94 2.06-2.06.94z\"/><path d=\"M17.41 7.96l-1.37-1.37c-.4-.4-.92-.59-1.43-.59-.52 0-1.04.2-1.43.59L10.3 9.45l-7.72 7.72c-.78.78-.78 2.05 0 2.83L4 21.41c.39.39.9.59 1.41.59.51 0 1.02-.2 1.41-.59l7.78-7.78 2.81-2.81c.8-.78.8-2.07 0-2.86zM5.41 20L4 18.59l7.72-7.72 1.47 1.35L5.41 20z\"/>\n",
              "  </svg>\n",
              "      </button>\n",
              "      \n",
              "  <style>\n",
              "    .colab-df-container {\n",
              "      display:flex;\n",
              "      flex-wrap:wrap;\n",
              "      gap: 12px;\n",
              "    }\n",
              "\n",
              "    .colab-df-convert {\n",
              "      background-color: #E8F0FE;\n",
              "      border: none;\n",
              "      border-radius: 50%;\n",
              "      cursor: pointer;\n",
              "      display: none;\n",
              "      fill: #1967D2;\n",
              "      height: 32px;\n",
              "      padding: 0 0 0 0;\n",
              "      width: 32px;\n",
              "    }\n",
              "\n",
              "    .colab-df-convert:hover {\n",
              "      background-color: #E2EBFA;\n",
              "      box-shadow: 0px 1px 2px rgba(60, 64, 67, 0.3), 0px 1px 3px 1px rgba(60, 64, 67, 0.15);\n",
              "      fill: #174EA6;\n",
              "    }\n",
              "\n",
              "    [theme=dark] .colab-df-convert {\n",
              "      background-color: #3B4455;\n",
              "      fill: #D2E3FC;\n",
              "    }\n",
              "\n",
              "    [theme=dark] .colab-df-convert:hover {\n",
              "      background-color: #434B5C;\n",
              "      box-shadow: 0px 1px 3px 1px rgba(0, 0, 0, 0.15);\n",
              "      filter: drop-shadow(0px 1px 2px rgba(0, 0, 0, 0.3));\n",
              "      fill: #FFFFFF;\n",
              "    }\n",
              "  </style>\n",
              "\n",
              "      <script>\n",
              "        const buttonEl =\n",
              "          document.querySelector('#df-0e955a82-be58-402d-a458-32ec4d66689f button.colab-df-convert');\n",
              "        buttonEl.style.display =\n",
              "          google.colab.kernel.accessAllowed ? 'block' : 'none';\n",
              "\n",
              "        async function convertToInteractive(key) {\n",
              "          const element = document.querySelector('#df-0e955a82-be58-402d-a458-32ec4d66689f');\n",
              "          const dataTable =\n",
              "            await google.colab.kernel.invokeFunction('convertToInteractive',\n",
              "                                                     [key], {});\n",
              "          if (!dataTable) return;\n",
              "\n",
              "          const docLinkHtml = 'Like what you see? Visit the ' +\n",
              "            '<a target=\"_blank\" href=https://colab.research.google.com/notebooks/data_table.ipynb>data table notebook</a>'\n",
              "            + ' to learn more about interactive tables.';\n",
              "          element.innerHTML = '';\n",
              "          dataTable['output_type'] = 'display_data';\n",
              "          await google.colab.output.renderOutput(dataTable, element);\n",
              "          const docLink = document.createElement('div');\n",
              "          docLink.innerHTML = docLinkHtml;\n",
              "          element.appendChild(docLink);\n",
              "        }\n",
              "      </script>\n",
              "    </div>\n",
              "  </div>\n",
              "  "
            ]
          },
          "metadata": {},
          "execution_count": 69
        }
      ]
    },
    {
      "cell_type": "code",
      "source": [
        "fig,axs=plt.subplots(1,2,figsize=(18,5))\n",
        "sns.scatterplot(np.arange(df.shape[0]),df.sample(frac=1).reset_index(drop=False)[\"Diff\"],ax=axs[0])\n",
        "sns.distplot(df[\"Diff\"],hist=True,ax=axs[1])"
      ],
      "metadata": {
        "colab": {
          "base_uri": "https://localhost:8080/",
          "height": 356
        },
        "id": "5zi3s3ySPC7Y",
        "outputId": "ee46b49f-9d8a-462a-d786-bf3697131fae"
      },
      "execution_count": null,
      "outputs": [
        {
          "output_type": "execute_result",
          "data": {
            "text/plain": [
              "<matplotlib.axes._subplots.AxesSubplot at 0x7feb72653f90>"
            ]
          },
          "metadata": {},
          "execution_count": 70
        },
        {
          "output_type": "display_data",
          "data": {
            "text/plain": [
              "<Figure size 1296x360 with 2 Axes>"
            ],
            "image/png": "[encoded data removed]"
          },
          "metadata": {}
        }
      ]
    },
    {
      "cell_type": "markdown",
      "source": [
        "# End!"
      ],
      "metadata": {
        "id": "O2nOK79IDXNl"
      }
    }
  ]
}